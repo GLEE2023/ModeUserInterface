{
 "cells": [
  {
   "cell_type": "code",
   "execution_count": 2,
   "metadata": {},
   "outputs": [
    {
     "ename": "ModuleNotFoundError",
     "evalue": "No module named 'numpy'",
     "output_type": "error",
     "traceback": [
      "\u001b[0;31m---------------------------------------------------------------------------\u001b[0m",
      "\u001b[0;31mModuleNotFoundError\u001b[0m                       Traceback (most recent call last)",
      "\u001b[1;32m/Users/catherinexiao/Desktop/ModeUserInterface/model.ipynb Cell 1'\u001b[0m in \u001b[0;36m<cell line: 1>\u001b[0;34m()\u001b[0m\n\u001b[0;32m----> <a href='vscode-notebook-cell:/Users/catherinexiao/Desktop/ModeUserInterface/model.ipynb#ch0000000?line=0'>1</a>\u001b[0m \u001b[39mimport\u001b[39;00m \u001b[39mnumpy\u001b[39;00m \u001b[39mas\u001b[39;00m \u001b[39mnp\u001b[39;00m\n\u001b[1;32m      <a href='vscode-notebook-cell:/Users/catherinexiao/Desktop/ModeUserInterface/model.ipynb#ch0000000?line=1'>2</a>\u001b[0m \u001b[39mimport\u001b[39;00m \u001b[39mmatplotlib\u001b[39;00m\n\u001b[1;32m      <a href='vscode-notebook-cell:/Users/catherinexiao/Desktop/ModeUserInterface/model.ipynb#ch0000000?line=2'>3</a>\u001b[0m \u001b[39mimport\u001b[39;00m \u001b[39mpandas\u001b[39;00m \u001b[39mas\u001b[39;00m \u001b[39mpd\u001b[39;00m\n",
      "\u001b[0;31mModuleNotFoundError\u001b[0m: No module named 'numpy'"
     ]
    }
   ],
   "source": [
    "import numpy as np\n",
    "import matplotlib\n",
    "import pandas as pd\n",
    "from IPython.display import Image"
   ]
  },
  {
   "cell_type": "markdown",
   "metadata": {},
   "source": [
    "# Temperature Sensor Configurations"
   ]
  },
  {
   "cell_type": "markdown",
   "metadata": {},
   "source": [
    "Explanation of below functions:  \n",
    "***Continuous conversion mode:*** The device continuously performs temperature conversions in this mode, as shown in Figure 7-3, and updates the temperature result register at the end of every active conversion  \n",
    "***One-shot mode:*** After the device completes a (temperature conversion) one-shot conversion, the device goes to the *low-power shutdown mode*.  "
   ]
  },
  {
   "cell_type": "code",
   "execution_count": 17,
   "metadata": {},
   "outputs": [],
   "source": [
    "class TMP117():\n",
    "    def __init__(self, mode, time_step, duration, CC_params, OS_params):\n",
    "        self.mode = mode\n",
    "        self.time_step = time_step\n",
    "        self.duration = duration\n",
    "        self.CC_params = CC_params\n",
    "        self.OS_params = OS_params\n",
    "\n",
    "    def runSim(self, active_times):\n",
    "        #active_times would be a list of tuples/list that would define the time at which the sensor was running\n",
    "        # i.e. [[0,1],[4,5],[6,7]] would have the sensor running from time 0s to 1s,\n",
    "        # 4s to 5s, 6s to 7s\n",
    "         \n",
    "        time = np.arrange([0,self.duration],self.time_step) #time at which to collect data\n",
    "        #active_vec = #get vector of when sensor is active\n",
    "\n",
    "        power = self.getPowerUsage(time)\n",
    "        data = self.getDataUsage(time)\n",
    "\n",
    "        return time, power, data\n",
    "\n",
    "    def getPowerUsage(self, time):\n",
    "        if mode == \"CC\": \n",
    "            standByCurrentConsumption = 1.25\n",
    "            activeCurrentConsumption = 135\n",
    "            convCycleTime = self.CC_params[0]\n",
    "            num_averages = self.CC_params[1]\n",
    "\n",
    "            activeConversionTime = num_averages*0.0155\n",
    "            standbyTime =  convCycleTime- activeConversionTime\n",
    "            amps = ((activeCurrentConsumption*activeConversionTime) + (standByCurrentConsumption*standbyTime)) / convCycleTime\n",
    "\n",
    "            power = amps * 3.3\n",
    "\n",
    "        elif mode == \"OS\":\n",
    "            return 0 # add more stuff ........\n",
    "\n",
    "        return power, time\n",
    "\n",
    "    def getDataAccumulated(self, time):\n",
    "        return 0\n",
    "    \n"
   ]
  },
  {
   "cell_type": "markdown",
   "metadata": {},
   "source": [
    "Parameters for TMP117 (to be changed by teams)  \n",
    "...add more explanation of what each input does later  \n",
    "add explanation of what possible inputs including default are for each input ...  \n",
    "\n",
    "**Continuous conversion (if selected) params**:  \n",
    "**possible conversion cycle times (see column 1 of table below)**: 0.0155, 0.125, 0.25, 0.5, 1, 4, 8, 16  \n",
    "**possible averaging inputs**: 0, 8, 32, 64\n"
   ]
  },
  {
   "cell_type": "code",
   "execution_count": 6,
   "metadata": {},
   "outputs": [],
   "source": [
    "#Image(\"convTimes.png\")"
   ]
  },
  {
   "cell_type": "code",
   "execution_count": 18,
   "metadata": {},
   "outputs": [],
   "source": [
    "mode = 'CC'\n",
    "time_step = 0 # possible inputs: ...\n",
    "duration = 0 # possible inputs: ...\n",
    "\n",
    "convCycle = 0.0155 # possible inputs: .0155, 0.125, 0.25, 0.5, 1, 4, 8, 16  \n",
    "num_averages = 0 # possible inputs**: 0, 8, 32, 64\n",
    "CC_params = [convCycle, num_averages] # set to 0 if mode chosen is not CC\n",
    "\n",
    "OS_params = [] # set to 0 if mode chosen is not OS\n",
    "\n",
    "x = TMP117(mode, time_step, duration, CC_params, OS_params)"
   ]
  },
  {
   "cell_type": "code",
   "execution_count": 30,
   "metadata": {},
   "outputs": [
    {
     "name": "stdout",
     "output_type": "stream",
     "text": [
      "(4.125, 0)\n"
     ]
    }
   ],
   "source": []
  }
 ],
 "metadata": {
  "kernelspec": {
   "display_name": "Python 3 (ipykernel)",
   "language": "python",
   "name": "python3"
  },
  "language_info": {
   "codemirror_mode": {
    "name": "ipython",
    "version": 3
   },
   "file_extension": ".py",
   "mimetype": "text/x-python",
   "name": "python",
   "nbconvert_exporter": "python",
   "pygments_lexer": "ipython3",
   "version": "3.9.12"
  },
  "vscode": {
   "interpreter": {
    "hash": "aee8b7b246df8f9039afb4144a1f6fd8d2ca17a180786b69acc140d282b71a49"
   }
  }
 },
 "nbformat": 4,
 "nbformat_minor": 2
}
