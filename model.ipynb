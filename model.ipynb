{
 "cells": [
  {
   "cell_type": "code",
   "execution_count": 1,
   "metadata": {},
   "outputs": [
    {
     "ename": "ModuleNotFoundError",
     "evalue": "No module named 'numpy'",
     "output_type": "error",
     "traceback": [
      "\u001b[0;31m---------------------------------------------------------------------------\u001b[0m",
      "\u001b[0;31mModuleNotFoundError\u001b[0m                       Traceback (most recent call last)",
      "\u001b[1;32m/Users/catherinexiao/Desktop/ModeUserInterface/model.ipynb Cell 1'\u001b[0m in \u001b[0;36m<cell line: 1>\u001b[0;34m()\u001b[0m\n\u001b[0;32m----> <a href='vscode-notebook-cell:/Users/catherinexiao/Desktop/ModeUserInterface/model.ipynb#ch0000000?line=0'>1</a>\u001b[0m \u001b[39mimport\u001b[39;00m \u001b[39mnumpy\u001b[39;00m \u001b[39mas\u001b[39;00m \u001b[39mnp\u001b[39;00m\n\u001b[1;32m      <a href='vscode-notebook-cell:/Users/catherinexiao/Desktop/ModeUserInterface/model.ipynb#ch0000000?line=1'>2</a>\u001b[0m \u001b[39mimport\u001b[39;00m \u001b[39mmatplotlib\u001b[39;00m\n\u001b[1;32m      <a href='vscode-notebook-cell:/Users/catherinexiao/Desktop/ModeUserInterface/model.ipynb#ch0000000?line=2'>3</a>\u001b[0m \u001b[39mimport\u001b[39;00m \u001b[39mpandas\u001b[39;00m \u001b[39mas\u001b[39;00m \u001b[39mpd\u001b[39;00m\n",
      "\u001b[0;31mModuleNotFoundError\u001b[0m: No module named 'numpy'"
     ]
    }
   ],
   "source": [
    "import numpy as np\n",
    "import matplotlib\n",
    "import pandas as pd\n",
    "from IPython.display import Image\n",
    "Image(\"convTimes.png\")"
   ]
  },
  {
   "cell_type": "markdown",
   "metadata": {},
   "source": [
    "Explanation of below functions:  \n",
    "***Continuous conversion mode:*** The device continuously performs temperature conversions in this mode, as shown in Figure 7-3, and updates the temperature result register at the end of every active conversion  \n",
    "***One-shot mode:*** After the device completes a (temperature conversion) one-shot conversion, the device goes to the *low-power shutdown mode*.  "
   ]
  },
  {
   "cell_type": "code",
   "execution_count": null,
   "metadata": {},
   "outputs": [],
   "source": [
    "def ContinuousConversion(CC_params=[averaging, convCycleTime]): \n",
    "\tstandByCurrentConsumption = 1.25\n",
    "\tactiveCurrentConsumption = 135\n",
    "\n",
    "\taveraging = CC_params[0]\n",
    "\tconvCycleTime = CC_params[1]\n",
    "\n",
    "\tactiveConversionTime = averaging*0.0155\n",
    "\tstandbyTime =  convCycleTime- activeConversionTime\n",
    "\tamps = ((activeCurrentConsumption*activeConversionTime) + (standByCurrentConsumption*standbyTime)) / convCycleTime\n",
    "\n",
    "def OneShot():\n",
    "\t# compute and return power for one shot"
   ]
  },
  {
   "cell_type": "code",
   "execution_count": null,
   "metadata": {},
   "outputs": [],
   "source": [
    "def TMP117data(time, frequency, mode, CC_params, OS_params):\n",
    "\tif mode == \"CC\": \n",
    "\t\tpower = ContinuousConversion(CC_params)\n",
    "\t\t\n",
    "\telif mode == \"OS\": \n",
    "\t\tpower = OneShot(OS_params)\n",
    "\t\n",
    "\telse: # low limit stuff\n",
    "\n",
    "\treturn power, time # returns data and time as functions of time\n"
   ]
  },
  {
   "cell_type": "markdown",
   "metadata": {},
   "source": [
    "Parameters for TMP117 (to be changed by teams)  \n",
    "...add more explanation of what each input does later  \n",
    "add explanation of what possible inputs including default are for each input"
   ]
  },
  {
   "cell_type": "code",
   "execution_count": null,
   "metadata": {},
   "outputs": [],
   "source": [
    "mode = 'OS'\n",
    "time = 0 # possible inputs: ...\n",
    "frequency = 0 # possible inputs: ...\n",
    "conversion = 0 # possible inputs: [000,001,010,011]\n",
    "CC_params = [convCycle, standByTime, averaging, ]# set to 0 if mode chosen is not CC\n",
    "OS_params = [] # set to 0 if mode chosen is not OS\n",
    "\n",
    "power_output = TMP117(time, frequency, mode, CC_params, OS_params) # calling the TMP117 function to output the power "
   ]
  },
  {
   "cell_type": "code",
   "execution_count": null,
   "metadata": {},
   "outputs": [],
   "source": [
    "![title](/convTimes.png)"
   ]
  }
 ],
 "metadata": {
  "kernelspec": {
   "display_name": "Python 3.10.2 64-bit",
   "language": "python",
   "name": "python3"
  },
  "language_info": {
   "codemirror_mode": {
    "name": "ipython",
    "version": 3
   },
   "file_extension": ".py",
   "mimetype": "text/x-python",
   "name": "python",
   "nbconvert_exporter": "python",
   "pygments_lexer": "ipython3",
   "version": "3.10.2"
  },
  "orig_nbformat": 4,
  "vscode": {
   "interpreter": {
    "hash": "aee8b7b246df8f9039afb4144a1f6fd8d2ca17a180786b69acc140d282b71a49"
   }
  }
 },
 "nbformat": 4,
 "nbformat_minor": 2
}
