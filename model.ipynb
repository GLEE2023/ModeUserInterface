{
 "cells": [
  {
   "cell_type": "code",
   "execution_count": null,
   "metadata": {},
   "outputs": [],
   "source": [
    "import numpy as np\n",
    "import matplotlib\n",
    "import pandas as pd"
   ]
  },
  {
   "cell_type": "markdown",
   "metadata": {},
   "source": [
    "Explanation of below functions:  \n",
    "***Continuous conversion mode:*** The device continuously performs temperature conversions in this mode, as shown in Figure 7-3, and updates the temperature result register at the end of every active conversion  \n",
    "***One-shot mode:*** After the device completes a (temperature conversion) one-shot conversion, the device goes to the *low-power shutdown mode*.  "
   ]
  },
  {
   "cell_type": "code",
   "execution_count": null,
   "metadata": {},
   "outputs": [],
   "source": [
    "def ContinuousConversion(): \n",
    "\tactiveConversionTime = float(convCycle[1])*0.0155\n",
    "\tstandbyTime = float(convCycle[0]) - activeConversionTime\n",
    "\tamps = ((135*activeConversionTime) + (1.25*standbyTime))/float(convCycle[0])\n",
    "\t\n",
    "def OneShot():\n",
    "\t# compute and return power for one shot"
   ]
  },
  {
   "cell_type": "code",
   "execution_count": null,
   "metadata": {},
   "outputs": [],
   "source": [
    "def TMP117data(time, frequency, mode):\n",
    "\tif mode == \"CC\": \n",
    "\t\tpower = ContinuousConversion()\n",
    "\t\t\n",
    "\telif mode == \"OS\": \n",
    "\t\tpower = OneShot()\n",
    "\n",
    "\telse: # low limit stuff\n",
    "\n",
    "\treturn power, time # returns data and time as functions of time\n"
   ]
  },
  {
   "cell_type": "markdown",
   "metadata": {},
   "source": [
    "Parameters for TMP117 (to be changed by teams)  \n",
    "...add more explanation of what each input does later  \n",
    "add explanation of what possible inputs including default are for each input"
   ]
  },
  {
   "cell_type": "code",
   "execution_count": null,
   "metadata": {},
   "outputs": [],
   "source": [
    "mode = 'OS' \n",
    "\n",
    "time = 0 # possible inputs: ...\n",
    "frequency = 0 # possible inputs: ...\n",
    "conversion = 0 # possible inputs: [000,001,010,011]\n",
    "CC_params = 0 # set to 0 if mode chosen is not CC\n",
    "OS_params = 0 # set to 0 if mode chosen is not OS\n",
    "\n",
    "power_output = TMP117() # calling the TMP117 function to output the power "
   ]
  }
 ],
 "metadata": {
  "language_info": {
   "name": "python"
  },
  "orig_nbformat": 4
 },
 "nbformat": 4,
 "nbformat_minor": 2
}
