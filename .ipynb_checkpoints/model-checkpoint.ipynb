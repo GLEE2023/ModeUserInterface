{
 "cells": [
  {
   "cell_type": "code",
   "execution_count": 31,
   "metadata": {},
   "outputs": [],
   "source": [
    "import numpy as np\n",
    "import matplotlib\n",
    "import pandas as pd\n",
    "from IPython.display import Image"
   ]
  },
  {
   "cell_type": "markdown",
   "metadata": {},
   "source": [
    "# Temperature Sensor Configurations"
   ]
  },
  {
   "cell_type": "markdown",
   "metadata": {},
   "source": [
    "Explanation of below functions:  \n",
    "***Continuous conversion mode:*** The device continuously performs temperature conversions in this mode, as shown in Figure 7-3, and updates the temperature result register at the end of every active conversion  \n",
    "***One-shot mode:*** After the device completes a (temperature conversion) one-shot conversion, the device goes to the *low-power shutdown mode*.  "
   ]
  },
  {
   "cell_type": "code",
   "execution_count": 32,
   "metadata": {},
   "outputs": [
    {
     "ename": "SyntaxError",
     "evalue": "invalid syntax (603785418.py, line 43)",
     "output_type": "error",
     "traceback": [
      "\u001b[0;36m  Input \u001b[0;32mIn [32]\u001b[0;36m\u001b[0m\n\u001b[0;31m    active_times = [ [4,5] [5,6] []]\u001b[0m\n\u001b[0m                                  ^\u001b[0m\n\u001b[0;31mSyntaxError\u001b[0m\u001b[0;31m:\u001b[0m invalid syntax\n"
     ]
    }
   ],
   "source": [
    "class TMP117():\n",
    "    def __init__(self, mode, time_step, duration, CC_params, OS_params):\n",
    "        self.mode = mode\n",
    "        self.time_step = time_step\n",
    "        self.duration = duration\n",
    "        self.CC_params = CC_params\n",
    "        self.OS_params = OS_params\n",
    "\n",
    "    def getPower(self, time):\n",
    "        power = []\n",
    "\n",
    "            \n",
    "            \n",
    "        if mode == \"CC\": \n",
    "            standByCurrentConsumption = 1.25\n",
    "            activeCurrentConsumption = 135\n",
    "            convCycleTime = self.CC_params[0]\n",
    "            num_averages = self.CC_params[1]\n",
    "\n",
    "            activeConversionTime = num_averages*0.0155\n",
    "            standbyTime =  convCycleTime- activeConversionTime\n",
    "            amps = ((activeCurrentConsumption*activeConversionTime) + (standByCurrentConsumption*standbyTime)) / convCycleTime\n",
    "\n",
    "            power = amps * 3.3\n",
    "\n",
    "        elif mode == \"OS\":\n",
    "            return 0 # add more stuff ........\n",
    "\n",
    "\n",
    "\n",
    "        return power\n",
    "\n",
    "    def getData(self, time):\n",
    "        return 0\n",
    "\n",
    "    def Simulation(self, active_times):\n",
    "        #active_times would be a list of tuples/list that would define the time at which the sensor was running\n",
    "        # i.e. [[0,1],[4,5],[6,7]] would have the sensor running from time 0s to 1s,\n",
    "        # 4s to 5s, 6s to 7s\n",
    "        \n",
    "        time = np.arrange([0,self.duration],self.time_step) #time at which to collect data\n",
    "        #active_vec = #get vector of when sensor is active\n",
    "        active_times = [ [4,5] [5,6] []]\n",
    "\n",
    "        power = self.getPower(time)\n",
    "        data = self.getData(time)\n",
    "\n",
    "        return time, power, data\n",
    "    \n"
   ]
  },
  {
   "cell_type": "code",
   "execution_count": 76,
   "metadata": {},
   "outputs": [
    {
     "ename": "IndentationError",
     "evalue": "expected an indented block (1511329534.py, line 11)",
     "output_type": "error",
     "traceback": [
      "\u001b[0;36m  Input \u001b[0;32mIn [76]\u001b[0;36m\u001b[0m\n\u001b[0;31m    standby = 1.25\u001b[0m\n\u001b[0m    ^\u001b[0m\n\u001b[0;31mIndentationError\u001b[0m\u001b[0;31m:\u001b[0m expected an indented block\n"
     ]
    }
   ],
   "source": [
    "time = np.arange(0,10,1)\n",
    "time = time.tolist()\n",
    "print(time)\n",
    "\n",
    "#active_times = [[1,2],[3,4]] # active times have to be \n",
    "def active_vec(active_times):\n",
    "    # returns array of 0 and 1's\n",
    "\n",
    "\n",
    "standby = 1.25 \n",
    "\n",
    "power = [0] * len(time) # creating corresponding power array to time intervals, default values \n",
    "\n",
    "for t in active_times:\n",
    "    index1 = time.index(t[0])\n",
    "    index2 = time.index(t[1])\n",
    "    \n",
    "    for i in range(index1,index2+1):\n",
    "        #calculation of power here\n",
    "        power[i] = 500"
   ]
  },
  {
   "cell_type": "markdown",
   "metadata": {},
   "source": [
    "### Parameters for TMP117 (to be changed by teams)  \n",
    "...add more explanation of what each input does later  \n",
    "add explanation of what possible inputs including default are for each input ...  \n",
    "\n",
    "**Continuous conversion (if selected) params**:  \n",
    "**possible conversion cycle times (see column 1 of table below)**: 0.0155, 0.125, 0.25, 0.5, 1, 4, 8, 16  \n",
    "**possible averaging inputs**: 0, 8, 32, 64\n"
   ]
  },
  {
   "cell_type": "code",
   "execution_count": null,
   "metadata": {},
   "outputs": [],
   "source": [
    "#Image(\"convTimes.png\")"
   ]
  },
  {
   "cell_type": "markdown",
   "metadata": {},
   "source": [
    "#### TO-DO (teams set inputs)"
   ]
  },
  {
   "cell_type": "code",
   "execution_count": null,
   "metadata": {},
   "outputs": [],
   "source": [
    "mode = 'CC'\n",
    "time_step = 0 # possible inputs: ...\n",
    "duration = 0 # possible inputs: ...\n",
    "\n",
    "convCycle = 0.0155 # possible inputs: .0155, 0.125, 0.25, 0.5, 1, 4, 8, 16, see above table (column 1)\n",
    "num_averages = 0 # possible inputs**: 0, 8, 32, 64\n",
    "CC_params = [convCycle, num_averages] # set to 0 if mode chosen is not CC\n",
    "OS_params = [num_averages] # set to 0 if mode chosen is not OS"
   ]
  },
  {
   "cell_type": "code",
   "execution_count": null,
   "metadata": {},
   "outputs": [],
   "source": [
    "x = TMP117(mode, time_step, duration, CC_params, OS_params) # creating TMP117 class\n",
    "x.Simulation() # getting power, data, time "
   ]
  },
  {
   "cell_type": "markdown",
   "metadata": {},
   "source": [
    "# Accelerometer"
   ]
  },
  {
   "cell_type": "code",
   "execution_count": null,
   "metadata": {},
   "outputs": [],
   "source": []
  },
  {
   "cell_type": "markdown",
   "metadata": {},
   "source": [
    "# Magnetometer"
   ]
  },
  {
   "cell_type": "markdown",
   "metadata": {},
   "source": []
  },
  {
   "cell_type": "markdown",
   "metadata": {},
   "source": [
    "# Thermopile"
   ]
  },
  {
   "cell_type": "markdown",
   "metadata": {},
   "source": []
  }
 ],
 "metadata": {
  "kernelspec": {
   "display_name": "Python 3 (ipykernel)",
   "language": "python",
   "name": "python3"
  },
  "language_info": {
   "codemirror_mode": {
    "name": "ipython",
    "version": 3
   },
   "file_extension": ".py",
   "mimetype": "text/x-python",
   "name": "python",
   "nbconvert_exporter": "python",
   "pygments_lexer": "ipython3",
   "version": "3.9.12"
  },
  "vscode": {
   "interpreter": {
    "hash": "aee8b7b246df8f9039afb4144a1f6fd8d2ca17a180786b69acc140d282b71a49"
   }
  }
 },
 "nbformat": 4,
 "nbformat_minor": 2
}
