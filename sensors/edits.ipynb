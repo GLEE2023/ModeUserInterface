{
 "cells": [
  {
   "cell_type": "code",
   "execution_count": 3,
   "metadata": {},
   "outputs": [],
   "source": [
    "from TMP117 import TMP117"
   ]
  },
  {
   "cell_type": "code",
   "execution_count": 4,
   "metadata": {},
   "outputs": [
    {
     "name": "stdout",
     "output_type": "stream",
     "text": [
      "[(0, 15, 'gyroscope_accelerometer_DMP'), (15, 30, 'accelerometer_only'), (30, 70, 'low_power_wakeup_5'), (70, 85, 'gyroscope_accelerometer_DMP'), (85, 100, 'accelerometer_only'), (100, 140, 'low_power_wakeup_5'), (140, 155, 'gyroscope_accelerometer_DMP'), (155, 170, 'accelerometer_only'), (170, 210, 'low_power_wakeup_5'), (210, 225, 'gyroscope_accelerometer_DMP'), (225, 240, 'accelerometer_only'), (240, 280, 'low_power_wakeup_5'), (280, 295, 'gyroscope_accelerometer_DMP'), (295, 310, 'accelerometer_only'), (310, 350, 'low_power_wakeup_5'), (350, 365, 'gyroscope_accelerometer_DMP'), (365, 380, 'accelerometer_only'), (380, 420, 'low_power_wakeup_5'), (420, 435, 'gyroscope_accelerometer_DMP'), (435, 450, 'accelerometer_only'), (450, 490, 'low_power_wakeup_5'), (490, 505, 'gyroscope_accelerometer_DMP'), (505, 520, 'accelerometer_only'), (520, 560, 'low_power_wakeup_5'), (560, 575, 'gyroscope_accelerometer_DMP'), (575, 590, 'accelerometer_only'), (590, 630, 'low_power_wakeup_5'), (630, 645, 'gyroscope_accelerometer_DMP'), (645, 660, 'accelerometer_only'), (660, 699, 'low_power_wakeup_5')]\n"
     ]
    },
    {
     "ename": "NameError",
     "evalue": "name 'MPU6050' is not defined",
     "output_type": "error",
     "traceback": [
      "\u001b[0;31m---------------------------------------------------------------------------\u001b[0m",
      "\u001b[0;31mNameError\u001b[0m                                 Traceback (most recent call last)",
      "Input \u001b[0;32mIn [4]\u001b[0m, in \u001b[0;36m<cell line: 29>\u001b[0;34m()\u001b[0m\n\u001b[1;32m     27\u001b[0m modedict \u001b[38;5;241m=\u001b[39m {\u001b[38;5;124m\"\u001b[39m\u001b[38;5;124mgyroscope_accelerometer_DMP\u001b[39m\u001b[38;5;124m\"\u001b[39m:\u001b[38;5;241m15\u001b[39m, \u001b[38;5;124m\"\u001b[39m\u001b[38;5;124maccelerometer_only\u001b[39m\u001b[38;5;124m\"\u001b[39m:\u001b[38;5;241m15\u001b[39m,\u001b[38;5;124m\"\u001b[39m\u001b[38;5;124mlow_power_wakeup_5\u001b[39m\u001b[38;5;124m\"\u001b[39m:\u001b[38;5;241m40\u001b[39m}\n\u001b[1;32m     28\u001b[0m active_times \u001b[38;5;241m=\u001b[39m generateActiveList(total_time\u001b[38;5;241m=\u001b[39m\u001b[38;5;241m699\u001b[39m, modedict\u001b[38;5;241m=\u001b[39mmodedict)\n\u001b[0;32m---> 29\u001b[0m accel2 \u001b[38;5;241m=\u001b[39m \u001b[43mMPU6050\u001b[49m(time_step\u001b[38;5;241m=\u001b[39m\u001b[38;5;241m1\u001b[39m, duration\u001b[38;5;241m=\u001b[39m\u001b[38;5;241m699\u001b[39m, loop_rate\u001b[38;5;241m=\u001b[39m\u001b[38;5;241m20\u001b[39m, digital_low_pass\u001b[38;5;241m=\u001b[39m\u001b[38;5;241m0\u001b[39m, sample_rate_divisor\u001b[38;5;241m=\u001b[39m\u001b[38;5;241m0\u001b[39m)\n\u001b[1;32m     31\u001b[0m accel2\u001b[38;5;241m.\u001b[39mrunSim(active_times)\n",
      "\u001b[0;31mNameError\u001b[0m: name 'MPU6050' is not defined"
     ]
    }
   ],
   "source": [
    "def generateActiveList(total_time: float, modedict:dict, **kwargs) -> list:\n",
    "    #frequency should be in hz. duration should be in seconds\n",
    "    finalArr = []\n",
    "    curTime = 0\n",
    "    flag = False\n",
    "    while curTime < total_time:\n",
    "        for key in modedict:\n",
    "            if curTime+modedict[key]>total_time:\n",
    "                flag = True\n",
    "                break\n",
    "            finalArr.append((curTime, curTime+modedict[key], key))\n",
    "            curTime += modedict[key]\n",
    "        if flag: \n",
    "            break\n",
    "    mode = len(finalArr) % len(modedict)\n",
    "    if finalArr[-1][1] > total_time:\n",
    "        finalArr[-1] = (finalArr[-1][0], total_time, list(modedict.keys())[mode])\n",
    "    elif finalArr[-1][1] < total_time:\n",
    "        finalArr.append((finalArr[-1][1], total_time, list(modedict.keys())[mode]))\n",
    "    print(finalArr)\n",
    "    return finalArr\n",
    "\n",
    "total_time = 658\n",
    "all_possible_modes = [\"OS_averages:8_conv:16\", \"CC_averages:32_conv:32\", \"CC_averages:64_conv:16\"]\n",
    "modedict = {\"OS_averages:8_conv:16\":15, \"CC_averages:32_conv:32\":15, \"CC_averages:64_conv:16\":40} # format is mode, num averages, conv cycle \n",
    "\n",
    "active_times = generateActiveList(total_time=699, modedict=modedict)\n",
    "accel2 = TMP117()\n",
    "\n",
    "accel2.runSim(active_times)"
   ]
  },
  {
   "cell_type": "code",
   "execution_count": 2,
   "metadata": {},
   "outputs": [
    {
     "data": {
      "text/plain": [
       "[(0, 15, 'OS_averages:8_conv:16'),\n",
       " (15, 30, 'CC_averages:32_conv:32'),\n",
       " (30, 70, 'CC_averages:64_conv:16'),\n",
       " (70, 85, 'OS_averages:8_conv:16'),\n",
       " (85, 100, 'CC_averages:32_conv:32'),\n",
       " (100, 140, 'CC_averages:64_conv:16'),\n",
       " (140, 155, 'OS_averages:8_conv:16'),\n",
       " (155, 170, 'CC_averages:32_conv:32'),\n",
       " (170, 210, 'CC_averages:64_conv:16'),\n",
       " (210, 225, 'OS_averages:8_conv:16'),\n",
       " (225, 240, 'CC_averages:32_conv:32'),\n",
       " (240, 280, 'CC_averages:64_conv:16'),\n",
       " (280, 295, 'OS_averages:8_conv:16'),\n",
       " (295, 310, 'CC_averages:32_conv:32'),\n",
       " (310, 350, 'CC_averages:64_conv:16'),\n",
       " (350, 365, 'OS_averages:8_conv:16'),\n",
       " (365, 380, 'CC_averages:32_conv:32'),\n",
       " (380, 420, 'CC_averages:64_conv:16'),\n",
       " (420, 435, 'OS_averages:8_conv:16'),\n",
       " (435, 450, 'CC_averages:32_conv:32'),\n",
       " (450, 490, 'CC_averages:64_conv:16'),\n",
       " (490, 505, 'OS_averages:8_conv:16'),\n",
       " (505, 520, 'CC_averages:32_conv:32'),\n",
       " (520, 560, 'CC_averages:64_conv:16'),\n",
       " (560, 575, 'OS_averages:8_conv:16'),\n",
       " (575, 590, 'CC_averages:32_conv:32'),\n",
       " (590, 630, 'CC_averages:64_conv:16'),\n",
       " (630, 645, 'OS_averages:8_conv:16'),\n",
       " (645, 658, 'OS_averages:8_conv:16')]"
      ]
     },
     "execution_count": 2,
     "metadata": {},
     "output_type": "execute_result"
    }
   ],
   "source": [
    "time_step = 0.0155\n",
    "duration = 100\n",
    "\n",
    "# params to set, CONV CYCLE TIME > TIME INTERVAL\n",
    "time1 = (0, 50)\n",
    "numaverage1 = 0\n",
    "convCycleTime1 = 16\n",
    "mode1 = \"OS\"\n",
    "\n",
    "time2 = (60, 75)\n",
    "numaverage2 = 8\n",
    "convCycleTime2 = 0.0155\n",
    "mode2 = \"CC\"\n",
    "\n",
    "time3 = (85, 97)\n",
    "numaverage3 = 8\n",
    "convCycleTime3 = 8\n",
    "mode3 = \"CC\"\n",
    "\n",
    "activeTimeParams = { time1: [numaverage1, convCycleTime1, mode1], time2: [numaverage2, convCycleTime2, mode2], time3: [numaverage3, convCycleTime3, mode3]  }\n",
    "tmp = TMP117(time_step, duration, activeTimeParams) # creating TMP117 class\n",
    "tmp.Simulation()"
   ]
  },
  {
   "cell_type": "code",
   "execution_count": null,
   "metadata": {},
   "outputs": [],
   "source": []
  }
 ],
 "metadata": {
  "kernelspec": {
   "display_name": "Python 3 (ipykernel)",
   "language": "python",
   "name": "python3"
  },
  "language_info": {
   "codemirror_mode": {
    "name": "ipython",
    "version": 3
   },
   "file_extension": ".py",
   "mimetype": "text/x-python",
   "name": "python",
   "nbconvert_exporter": "python",
   "pygments_lexer": "ipython3",
   "version": "3.9.12"
  },
  "vscode": {
   "interpreter": {
    "hash": "aee8b7b246df8f9039afb4144a1f6fd8d2ca17a180786b69acc140d282b71a49"
   }
  }
 },
 "nbformat": 4,
 "nbformat_minor": 2
}
