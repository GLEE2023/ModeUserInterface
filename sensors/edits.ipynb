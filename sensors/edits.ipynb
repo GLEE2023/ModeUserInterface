{
 "cells": [],
 "metadata": {
  "kernelspec": {
   "display_name": "Python 3.9.12 ('base')",
   "language": "python",
   "name": "python3"
  },
  "language_info": {
   "codemirror_mode": {
    "name": "ipython",
    "version": 3
   },
   "file_extension": ".py",
   "mimetype": "text/x-python",
   "name": "python",
   "nbconvert_exporter": "python",
   "pygments_lexer": "ipython3",
   "version": "3.9.12"
  },
  "vscode": {
   "interpreter": {
    "hash": "66d25c861a595330ccc0219276206efe9046352324bed689a3ced746c2586d60"
   }
  }
 },
 "nbformat": 4,
 "nbformat_minor": 2
}
