{
 "cells": [
  {
   "cell_type": "code",
   "execution_count": 4,
   "metadata": {},
   "outputs": [],
   "source": [
    "from TMP117 import TMP117"
   ]
  },
  {
   "cell_type": "code",
   "execution_count": 6,
   "metadata": {},
   "outputs": [
    {
     "ename": "TypeError",
     "evalue": "generateActiveList() missing 2 required positional arguments: 'total_time' and 'modedict'",
     "output_type": "error",
     "traceback": [
      "\u001b[0;31m---------------------------------------------------------------------------\u001b[0m",
      "\u001b[0;31mTypeError\u001b[0m                                 Traceback (most recent call last)",
      "\u001b[1;32m/Users/catherinexiao/Desktop/ModeUserInterface/sensors/edits.ipynb Cell 3'\u001b[0m in \u001b[0;36m<cell line: 26>\u001b[0;34m()\u001b[0m\n\u001b[1;32m     <a href='vscode-notebook-cell:/Users/catherinexiao/Desktop/ModeUserInterface/sensors/edits.ipynb#ch0000002?line=23'>24</a>\u001b[0m activeTimeParams \u001b[39m=\u001b[39m { time1: [numaverage1, convCycleTime1, mode1], time2: [numaverage2, convCycleTime2, mode2], time3: [numaverage3, convCycleTime3, mode3]  }\n\u001b[1;32m     <a href='vscode-notebook-cell:/Users/catherinexiao/Desktop/ModeUserInterface/sensors/edits.ipynb#ch0000002?line=24'>25</a>\u001b[0m tmp \u001b[39m=\u001b[39m TMP117(time_step, duration, activeTimeParams) \u001b[39m# creating TMP117 class\u001b[39;00m\n\u001b[0;32m---> <a href='vscode-notebook-cell:/Users/catherinexiao/Desktop/ModeUserInterface/sensors/edits.ipynb#ch0000002?line=25'>26</a>\u001b[0m tmp\u001b[39m.\u001b[39;49mSimulation()\n",
      "File \u001b[0;32m~/Desktop/ModeUserInterface/sensors/TMP117.py:159\u001b[0m, in \u001b[0;36mTMP117.Simulation\u001b[0;34m(self)\u001b[0m\n\u001b[1;32m    157\u001b[0m data \u001b[39m=\u001b[39m \u001b[39mself\u001b[39m\u001b[39m.\u001b[39mgetAllModesData()\n\u001b[1;32m    158\u001b[0m activeTimes \u001b[39m=\u001b[39m \u001b[39mself\u001b[39m\u001b[39m.\u001b[39mgetActiveTimes()\n\u001b[0;32m--> 159\u001b[0m activeList \u001b[39m=\u001b[39m generateActiveList()\n\u001b[1;32m    160\u001b[0m \u001b[39mself\u001b[39m\u001b[39m.\u001b[39mplotData(power, data, \u001b[39mself\u001b[39m\u001b[39m.\u001b[39mtime, activeTimes)\n\u001b[1;32m    161\u001b[0m \u001b[39mself\u001b[39m\u001b[39m.\u001b[39mplotData(power, data, \u001b[39mself\u001b[39m\u001b[39m.\u001b[39mtime, activeList)\n",
      "\u001b[0;31mTypeError\u001b[0m: generateActiveList() missing 2 required positional arguments: 'total_time' and 'modedict'"
     ]
    }
   ],
   "source": [
    "tmp = TMP117(self, time_step, duration, activeTimeParams, totalTimePeriod, modedict) # creating TMP117 class\n",
    "tmp.Simulation()"
   ]
  }
 ],
 "metadata": {
  "kernelspec": {
   "display_name": "Python 3.9.12 ('base')",
   "language": "python",
   "name": "python3"
  },
  "language_info": {
   "codemirror_mode": {
    "name": "ipython",
    "version": 3
   },
   "file_extension": ".py",
   "mimetype": "text/x-python",
   "name": "python",
   "nbconvert_exporter": "python",
   "pygments_lexer": "ipython3",
   "version": "3.9.12"
  },
  "vscode": {
   "interpreter": {
    "hash": "66d25c861a595330ccc0219276206efe9046352324bed689a3ced746c2586d60"
   }
  }
 },
 "nbformat": 4,
 "nbformat_minor": 2
}
