{
 "cells": [
  {
   "cell_type": "code",
   "execution_count": 97,
   "metadata": {},
   "outputs": [],
   "source": [
    "#from TMP117 import TMP117"
   ]
  },
  {
   "cell_type": "code",
   "execution_count": 98,
   "metadata": {},
   "outputs": [],
   "source": [
    "import numpy as np\n",
    "import pandas as pd\n",
    "import matplotlib.pyplot as plt\n",
    "\n",
    "class TMP117():\n",
    "    def __init__(self, time_step, duration, activeTimeParams): \n",
    "        self.time_step = time_step\n",
    "        self.duration = duration\n",
    "        self.time = np.arange(0, duration, time_step) #time at which to collect data\n",
    "        self.activeTimeParams = activeTimeParams\n",
    "        \n",
    "#    def errorCheck():\n",
    "#         for \n",
    "#             if convCycleTime == 0:\n",
    "#                 print(\"error. conv cycle time cannot be zero, please check parameters again.\")\n",
    "                \n",
    "    def computePower(self, num_averages, convCycleTime, mode):\n",
    "        activeCurrentConsumption = 135 # micro amps\n",
    "        activeConversionTime = num_averages*0.0155\n",
    "\n",
    "        standByCurrentConsumption = 1.25 # micro amps\n",
    "        standbyTime = convCycleTime - activeConversionTime\n",
    "        \n",
    "        SDcurrent = 250/ 1000000 # micro amps\n",
    "        \n",
    "        if mode == \"CC\":\n",
    "            current = ((activeCurrentConsumption*activeConversionTime)+(standByCurrentConsumption*standbyTime))/convCycleTime\n",
    "\n",
    "        elif mode == \"OS\":\n",
    "            current = ((activeCurrentConsumption*activeConversionTime)+(SDcurrent*standbyTime))/convCycleTime\n",
    "            \n",
    "        power = (current * 3.3)/1000 # milli watts\n",
    "        \n",
    "        return power\n",
    "    \n",
    "    def getAllModesPower(self):\n",
    "        length = len(self.time)\n",
    "        power_arr = [0] * length # creating corresponding power array to time intervals, default values\n",
    "\n",
    "        # check if the given start and end time is a valid value in the time array and round to nearest value \n",
    "        for times in self.activeTimeParams:\n",
    "            start_index = int(times[0] / self.time_step) # getting index of the closest value to active times \n",
    "            end_index = int(times[1] / self.time_step)\n",
    "\n",
    "            if start_index < 0 or end_index > len(self.time): # not valid time\n",
    "                print(\"Error. Index not valid.\")\n",
    "                return -1\n",
    "\n",
    "            mode = self.activeTimeParams[times][2]\n",
    "            averages = self.activeTimeParams[times][0]\n",
    "            convCycle = self.activeTimeParams[times][1]\n",
    "            power = self.computePower(averages, convCycle, mode)\n",
    "            for i in range(start_index, end_index):\n",
    "                power_arr[i] = power\n",
    "        \n",
    "        return power_arr\n",
    "            \n",
    "    def getAllModesData(self):\n",
    "        '''\n",
    "        The data in the result register is in two's complement format, \n",
    "        has a data width of 16 bits and a resolution of 7.8125 m°C.\n",
    "        \n",
    "        Changing the conversion cycle period also affects the temperature result update rate because the temperature \n",
    "        result register is updated at the end of every active conversion. \n",
    "        \n",
    "        Storing 16-bit value at the end of each conversion cycle\n",
    "        '''\n",
    "        \n",
    "        bits_per_cycle = 16\n",
    "        \n",
    "        length = len(self.time)\n",
    "        data_arr = [0] * length # creating corresponding power array to time intervals, default values \n",
    "        data_accumulated = 0\n",
    "        \n",
    "        for times in self.activeTimeParams: # for each active period\n",
    "            start_index = int(times[0] / self.time_step) \n",
    "            end_index = int(times[1] / self.time_step)\n",
    "            \n",
    "            #calculating data per step in active time period\n",
    "            convCycle = self.activeTimeParams[times][1]\n",
    "            bits_per_second = bits_per_cycle / convCycle # bits per second\n",
    "            activeTimeTotal = times[1]-times[0] # getting num of seconds of active period\n",
    "            bits_total = bits_per_second * activeTimeTotal # total bits during that active period\n",
    "            num_steps = end_index-start_index \n",
    "            bits_per_step = bits_total / num_steps\n",
    "            #indexes[time] = bits_per_step\n",
    "            \n",
    "            for i in range(start_index, length):\n",
    "                if i < end_index:\n",
    "                    data_accumulated += bits_per_step\n",
    "                    \n",
    "                data_arr[i] = data_accumulated \n",
    "            \n",
    "        return data_arr\n",
    "\n",
    "    def Simulation(self):\n",
    "        power = self.getAllModesPower()\n",
    "        data = self.getAllModesData()\n",
    "\n",
    "        return power, data, self.time"
   ]
  },
  {
   "cell_type": "markdown",
   "metadata": {},
   "source": [
    "# Temperature Sensor Configurations"
   ]
  },
  {
   "cell_type": "markdown",
   "metadata": {},
   "source": [
    "***Continuous conversion mode:*** The device continuously performs temperature conversions in this mode, as shown in Figure 7-3, and updates the temperature result register at the end of every active conversion  \n",
    "***One-shot mode:*** After the device completes a (temperature conversion) one-shot conversion, the device goes to the *low-power shutdown mode*.  "
   ]
  },
  {
   "cell_type": "markdown",
   "metadata": {},
   "source": [
    "### Parameters for TMP117 (to be changed by teams)  \n",
    "...add more explanation of what each input does later  \n",
    "add explanation of what possible inputs including default are for each input ...  \n",
    "\n",
    "**Continuous conversion (if selected) params**:  \n",
    "**possible conversion cycle times (see column 1 of table below)**: 0.0155, 0.125, 0.25, 0.5, 1, 4, 8, 16  \n",
    "**possible averaging inputs**: 0, 8, 32, 64\n"
   ]
  },
  {
   "cell_type": "code",
   "execution_count": 99,
   "metadata": {},
   "outputs": [],
   "source": [
    "#Image(\"convTimes.png\")"
   ]
  },
  {
   "cell_type": "markdown",
   "metadata": {},
   "source": [
    "#### TO-DO (teams set inputs)"
   ]
  },
  {
   "cell_type": "code",
   "execution_count": 104,
   "metadata": {},
   "outputs": [],
   "source": [
    "time_step = 0.0155\n",
    "duration = 100\n",
    "\n",
    "# params to set, CONV CYCLE TIME > TIME INTERVAL\n",
    "time1 = (0, 5)\n",
    "numaverage1 = 8\n",
    "convCycleTime1 = 16\n",
    "mode1 = \"OS\"\n",
    "\n",
    "# time2 = (70, 70.5)\n",
    "# numaverage2 = 8\n",
    "# convCycleTime2 = 0.0155\n",
    "# mode2 = \"CC\"\n",
    "\n",
    "activeTimeParams = { time1: [numaverage1, convCycleTime1, mode1] }"
   ]
  },
  {
   "cell_type": "code",
   "execution_count": 105,
   "metadata": {},
   "outputs": [],
   "source": [
    "x = TMP117(time_step, duration, activeTimeParams) # creating TMP117 class\n",
    "power, data, time = x.Simulation() # getting power, data, time"
   ]
  },
  {
   "cell_type": "code",
   "execution_count": 102,
   "metadata": {},
   "outputs": [],
   "source": [
    "#print(power)"
   ]
  },
  {
   "cell_type": "code",
   "execution_count": 107,
   "metadata": {},
   "outputs": [
    {
     "data": {
      "image/png": "[encoded data removed]",
      "text/plain": [
       "<Figure size 432x288 with 1 Axes>"
      ]
     },
     "metadata": {
      "needs_background": "light"
     },
     "output_type": "display_data"
    }
   ],
   "source": [
    "plt.plot(time, data);"
   ]
  }
 ],
 "metadata": {
  "kernelspec": {
   "display_name": "Python 3 (ipykernel)",
   "language": "python",
   "name": "python3"
  },
  "language_info": {
   "codemirror_mode": {
    "name": "ipython",
    "version": 3
   },
   "file_extension": ".py",
   "mimetype": "text/x-python",
   "name": "python",
   "nbconvert_exporter": "python",
   "pygments_lexer": "ipython3",
   "version": "3.9.12"
  },
  "vscode": {
   "interpreter": {
    "hash": "aee8b7b246df8f9039afb4144a1f6fd8d2ca17a180786b69acc140d282b71a49"
   }
  }
 },
 "nbformat": 4,
 "nbformat_minor": 2
}
