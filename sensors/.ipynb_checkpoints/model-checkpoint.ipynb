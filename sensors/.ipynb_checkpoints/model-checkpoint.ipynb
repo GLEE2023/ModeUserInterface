{
 "cells": [
  {
   "cell_type": "code",
   "execution_count": 1,
   "metadata": {},
   "outputs": [],
   "source": [
    "import numpy as np\n",
    "import matplotlib.pyplot as plt\n",
    "import pandas as pd\n",
    "from IPython.display import Image"
   ]
  },
  {
   "cell_type": "markdown",
   "metadata": {},
   "source": [
    "# Temperature Sensor Configurations"
   ]
  },
  {
   "cell_type": "markdown",
   "metadata": {},
   "source": [
    "Explanation of below functions:  \n",
    "***Continuous conversion mode:*** The device continuously performs temperature conversions in this mode, as shown in Figure 7-3, and updates the temperature result register at the end of every active conversion  \n",
    "***One-shot mode:*** After the device completes a (temperature conversion) one-shot conversion, the device goes to the *low-power shutdown mode*.  "
   ]
  },
  {
   "cell_type": "code",
   "execution_count": 8,
   "metadata": {},
   "outputs": [
    {
     "ename": "SyntaxError",
     "evalue": "invalid syntax (2067523539.py, line 8)",
     "output_type": "error",
     "traceback": [
      "\u001b[0;36m  Input \u001b[0;32mIn [8]\u001b[0;36m\u001b[0m\n\u001b[0;31m    self.conv_cycle =\u001b[0m\n\u001b[0m                      ^\u001b[0m\n\u001b[0;31mSyntaxError\u001b[0m\u001b[0;31m:\u001b[0m invalid syntax\n"
     ]
    }
   ],
   "source": [
    "class TMP117():\n",
    "    def __init__(self, mode, duration, CC_params, OS_params):\n",
    "        self.mode = mode\n",
    "        self.time_step = CC_params[0]\n",
    "        self.duration = duration\n",
    "        self.CC_params = CC_params\n",
    "        self.OS_params = OS_params\n",
    "        self.conv_cycle = \n",
    "        self.time = np.arange(0,self.duration,self.time_step) #time at which to collect data\n",
    "        \n",
    "        #self.active_times = \n",
    "    \n",
    "    def getPower(self, active_times):\n",
    "        standby = 1.25 / 1000 # default power when active conversion is off\n",
    "        power = 0\n",
    "        \n",
    "        if self.mode == \"CC\": \n",
    "            standByCurrentConsumption = 1.25\n",
    "            activeCurrentConsumption = 135\n",
    "            convCycleTime = self.CC_params[0]\n",
    "            num_averages = self.CC_params[1]\n",
    "\n",
    "            activeConversionTime = num_averages*0.0155\n",
    "            standbyTime = convCycleTime - activeConversionTime\n",
    "            amps = ((activeCurrentConsumption*activeConversionTime) + (standByCurrentConsumption*standbyTime)) / convCycleTime\n",
    "            power = (amps * 3.3) / 1000\n",
    "\n",
    "        elif self.mode == \"OS\": \n",
    "            # active conversion time equals conversion cycle time\n",
    "            shutdownCurrentConsumption = 1.25\n",
    "            shutdownTime = convCycleTime - activeConversionTime\n",
    "            num_averages = self.OS_params[0]\n",
    "\n",
    "            activeConversionTime = num_averages*0.0155\n",
    "            power = (activeCurrentConsumption * 3.3) / 1000\n",
    "        \n",
    "        arr = self.returnArr(active_times)\n",
    "        a = np.array(arr)\n",
    "        power_arr = np.where(a == 1, power, 0)\n",
    "    \n",
    "        return power_arr\n",
    "\n",
    "    def returnArr(self, active_times): \n",
    "        #time = time.tolist()\n",
    "        length = len(self.time)\n",
    "        arr = [0] * length # creating corresponding power array to time intervals, default values \n",
    "\n",
    "        # check if the given start and end time is a valid value in the time array and round to nearest value \n",
    "        for times in active_times:\n",
    "            start_index = int(times[0] / self.time_step) # getting index of the closest value to active times \n",
    "            end_index = int(times[1] / self.time_step)\n",
    "            \n",
    "            if index < 0 or index > len(self.time): \n",
    "                print(\"Error. Index not valid.\")\n",
    "            \n",
    "            for i in range(start_index, end_index+1):\n",
    "                arr[i] = 1\n",
    "        return arr\n",
    "\n",
    "    def getData(self, active_times):\n",
    "        '''\n",
    "        The data in the result register is in two's complement format, \n",
    "        has a data width of 16 bits and a resolution of 7.8125 m°C.\n",
    "        \n",
    "        Changing the conversion cycle period also affects the temperature result update rate because the temperature \n",
    "        result register is updated at the end of every active conversion. \n",
    "        \n",
    "        Storing 16-bit value at the end of each conversion cycle\n",
    "        '''\n",
    "        data = 16 \n",
    "        conv_cycles = \n",
    "        \n",
    "        arr = self.returnArr(active_times)\n",
    "        a = np.array(arr)\n",
    "        power_arr = np.where(a == 1, data, standby)\n",
    "    \n",
    "\n",
    "    def Simulation(self, active_times):\n",
    "        power = self.getPower(active_times)\n",
    "        data = self.getData(active_times)\n",
    "\n",
    "        return power, data"
   ]
  },
  {
   "cell_type": "markdown",
   "metadata": {},
   "source": [
    "### Parameters for TMP117 (to be changed by teams)  \n",
    "...add more explanation of what each input does later  \n",
    "add explanation of what possible inputs including default are for each input ...  \n",
    "\n",
    "**Continuous conversion (if selected) params**:  \n",
    "**possible conversion cycle times (see column 1 of table below)**: 0.0155, 0.125, 0.25, 0.5, 1, 4, 8, 16  \n",
    "**possible averaging inputs**: 0, 8, 32, 64\n"
   ]
  },
  {
   "cell_type": "code",
   "execution_count": null,
   "metadata": {},
   "outputs": [],
   "source": [
    "#Image(\"convTimes.png\")"
   ]
  },
  {
   "cell_type": "markdown",
   "metadata": {},
   "source": [
    "#### TO-DO (teams set inputs)"
   ]
  },
  {
   "cell_type": "code",
   "execution_count": 4,
   "metadata": {},
   "outputs": [],
   "source": [
    "mode = 'CC'\n",
    "duration = 1 # possible inputs: ...\n",
    "convCycle = 0.0155 # possible inputs: .0155, 0.125, 0.25, 0.5, 1, 4, 8, 16, see above table (column 1)\n",
    "num_averages = 0 # possible inputs: 0, 8, 32, 64\n",
    "CC_params = [convCycle, num_averages] # set to 0 if mode chosen is not CC\n",
    "OS_params = [num_averages] # set to 0 if mode chosen is not OS"
   ]
  },
  {
   "cell_type": "code",
   "execution_count": 5,
   "metadata": {},
   "outputs": [],
   "source": [
    "x = TMP117(mode, duration, CC_params, OS_params) # creating TMP117 class\n",
    "active_times = [ [0,.0155] ] # on periods, have to be multiples of the time step\n",
    "power, data = x.Simulation(active_times) # getting power, data"
   ]
  },
  {
   "cell_type": "code",
   "execution_count": 6,
   "metadata": {},
   "outputs": [
    {
     "data": {
      "image/png": "[encoded data removed]",
      "text/plain": [
       "<Figure size 432x288 with 1 Axes>"
      ]
     },
     "metadata": {
      "needs_background": "light"
     },
     "output_type": "display_data"
    }
   ],
   "source": [
    "plt.plot(power);"
   ]
  },
  {
   "cell_type": "markdown",
   "metadata": {},
   "source": [
    "# Accelerometer"
   ]
  },
  {
   "cell_type": "markdown",
   "metadata": {},
   "source": [
    "# Magnetometer"
   ]
  },
  {
   "cell_type": "markdown",
   "metadata": {},
   "source": []
  },
  {
   "cell_type": "markdown",
   "metadata": {},
   "source": [
    "# Thermopile"
   ]
  },
  {
   "cell_type": "markdown",
   "metadata": {},
   "source": []
  }
 ],
 "metadata": {
  "kernelspec": {
   "display_name": "Python 3 (ipykernel)",
   "language": "python",
   "name": "python3"
  },
  "language_info": {
   "codemirror_mode": {
    "name": "ipython",
    "version": 3
   },
   "file_extension": ".py",
   "mimetype": "text/x-python",
   "name": "python",
   "nbconvert_exporter": "python",
   "pygments_lexer": "ipython3",
   "version": "3.9.12"
  },
  "vscode": {
   "interpreter": {
    "hash": "aee8b7b246df8f9039afb4144a1f6fd8d2ca17a180786b69acc140d282b71a49"
   }
  }
 },
 "nbformat": 4,
 "nbformat_minor": 2
}
