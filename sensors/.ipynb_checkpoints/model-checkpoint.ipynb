{
 "cells": [
  {
   "cell_type": "code",
   "execution_count": 19,
   "metadata": {},
   "outputs": [
    {
     "name": "stdout",
     "output_type": "stream",
     "text": [
      "time [0.     0.0155 0.031  0.0465 0.062  0.0775 0.093  0.1085 0.124  0.1395\n",
      " 0.155  0.1705 0.186  0.2015 0.217  0.2325 0.248  0.2635 0.279  0.2945\n",
      " 0.31   0.3255 0.341  0.3565 0.372  0.3875 0.403  0.4185 0.434  0.4495\n",
      " 0.465  0.4805 0.496 ]\n",
      "time_step 0.0155\n"
     ]
    }
   ],
   "source": [
    "import numpy as np\n",
    "import matplotlib.pyplot as plt\n",
    "import pandas as pd\n",
    "from IPython.display import Image\n",
    "from matplotlib.widgets import Slider, RadioButtons\n",
    "from Sensor import Sensor"
   ]
  },
  {
   "cell_type": "markdown",
   "metadata": {},
   "source": [
    "# Temperature Sensor Configurations"
   ]
  },
  {
   "cell_type": "markdown",
   "metadata": {},
   "source": [
    "***Continuous conversion mode:*** The device continuously performs temperature conversions in this mode, as shown in Figure 7-3, and updates the temperature result register at the end of every active conversion  \n",
    "***One-shot mode:*** After the device completes a (temperature conversion) one-shot conversion, the device goes to the *low-power shutdown mode*.  "
   ]
  },
  {
   "cell_type": "code",
   "execution_count": 106,
   "metadata": {},
   "outputs": [],
   "source": [
    "class TMP117():\n",
    "    def __init__(self, time_step, duration, CC_params, OS_params, activeTimes): \n",
    "        self.mode = mode\n",
    "        self.time_step = time_step\n",
    "        self.duration = duration\n",
    "        self.CC_params = CC_params\n",
    "        self.OS_params = OS_params\n",
    "        #self.conv_cycle = CC_params[0]\n",
    "        self.time = np.arange(0, duration, self.time_step) #time at which to collect data\n",
    "        print(self.time)\n",
    "        self.active_times = activeTimes\n",
    "        \n",
    "    def computePower(self, num_averages, conv_cycle):\n",
    "        standby = 1.25 / 1000 # default power when active conversion is off\n",
    "        power = 0\n",
    "\n",
    "        #if mode == \"CC\":\n",
    "        standByCurrentConsumption = 1.25\n",
    "        activeCurrentConsumption = 135\n",
    "        convCycleTime = conv_cycle\n",
    "        num_averages = num_averages\n",
    "        activeConversionTime = num_averages*0.0155\n",
    "        standbyTime = convCycleTime - activeConversionTime\n",
    "        if convCycleTime == 0:\n",
    "            current = convCycleTime\n",
    "        else: current = ((activeCurrentConsumption*activeConversionTime) + (standByCurrentConsumption*standbyTime)) / convCycleTime\n",
    "        power_CC = (current * 3.3) / 1000\n",
    "        \n",
    "        return power\n",
    "    \n",
    "    def getAllModesPower(self):\n",
    "        length = len(self.time)\n",
    "        arr = [0] * length # creating corresponding power array to time intervals, default values \n",
    "\n",
    "        # check if the given start and end time is a valid value in the time array and round to nearest value \n",
    "        for times in self.active_times:\n",
    "            start_index = int(times[0] / self.time_step) # getting index of the closest value to active times \n",
    "            end_index = int(times[1] / self.time_step)\n",
    "\n",
    "            if start_index < 0 or end_index > len(self.time): # not valid time\n",
    "                print(end_index, start_index)\n",
    "                print(len(self.time))\n",
    "                print(\"Error. Index not valid.\")\n",
    "                return -1\n",
    "\n",
    "            mode = self.CC_params[0][0]\n",
    "            power = self.computePower(self.CC_params[0][1], self.CC_params[0][2])\n",
    "            for i in range(start_index, end_index):\n",
    "                arr[i] = power\n",
    "\n",
    "        return arr\n",
    "    \n",
    "    def computeData(self):\n",
    "        pass\n",
    "    \n",
    "    def getData(self, active_times):\n",
    "        '''\n",
    "        The data in the result register is in two's complement format, \n",
    "        has a data width of 16 bits and a resolution of 7.8125 m°C.\n",
    "        \n",
    "        Changing the conversion cycle period also affects the temperature result update rate because the temperature \n",
    "        result register is updated at the end of every active conversion. \n",
    "        \n",
    "        Storing 16-bit value at the end of each conversion cycle\n",
    "        '''\n",
    "        \n",
    "        # 16 bits, 32 bits, 64 bits\n",
    "        # 0.0155 s, 0.0155 * 2, 0.0155 * 3\n",
    "        data = 0\n",
    "        self.conv_cycle\n",
    "        \n",
    "        arr = self.returnArr(active_times) # returns array of 0, 1's, and 2's representing mode active\n",
    "        data_arr = arr\n",
    "        length = len(arr)\n",
    "        \n",
    "        for index, mode in enumerate(arr):\n",
    "            # first time sensor is turned on\n",
    "            \n",
    "            if mode == 0:\n",
    "                data_arr[index] = data\n",
    "\n",
    "            elif mode == \"OS\":\n",
    "                data = data + 16\n",
    "                data_arr[index] = data\n",
    "            \n",
    "            elif mode == \"CC\":\n",
    "                pass\n",
    "            \n",
    "        return data_arr\n",
    "\n",
    "    def Simulation(self):\n",
    "        power = self.getAllModesPower()\n",
    "        data = []\n",
    "\n",
    "        return power, data"
   ]
  },
  {
   "cell_type": "markdown",
   "metadata": {},
   "source": [
    "### Parameters for TMP117 (to be changed by teams)  \n",
    "...add more explanation of what each input does later  \n",
    "add explanation of what possible inputs including default are for each input ...  \n",
    "\n",
    "**Continuous conversion (if selected) params**:  \n",
    "**possible conversion cycle times (see column 1 of table below)**: 0.0155, 0.125, 0.25, 0.5, 1, 4, 8, 16  \n",
    "**possible averaging inputs**: 0, 8, 32, 64\n"
   ]
  },
  {
   "cell_type": "code",
   "execution_count": 81,
   "metadata": {},
   "outputs": [],
   "source": [
    "#Image(\"convTimes.png\")"
   ]
  },
  {
   "cell_type": "markdown",
   "metadata": {},
   "source": [
    "#### TO-DO (teams set inputs)"
   ]
  },
  {
   "cell_type": "code",
   "execution_count": 107,
   "metadata": {},
   "outputs": [],
   "source": [
    "time_step = 0.0155\n",
    "duration = 10\n",
    "mode = 'CC'\n",
    "CC_params = [(\"CC\", 8, 0), (\"CC\", 0, 0.0155)] # explain this to teams\n",
    "OS_params = [(\"CC\", 16, 0)] # set to 0 if mode chosen is not OS\n",
    "activeTimes = [[0.1, 0.4], [5, 5.5]]"
   ]
  },
  {
   "cell_type": "code",
   "execution_count": 108,
   "metadata": {},
   "outputs": [
    {
     "name": "stdout",
     "output_type": "stream",
     "text": [
      "[0.     0.0155 0.031  0.0465 0.062  0.0775 0.093  0.1085 0.124  0.1395\n",
      " 0.155  0.1705 0.186  0.2015 0.217  0.2325 0.248  0.2635 0.279  0.2945\n",
      " 0.31   0.3255 0.341  0.3565 0.372  0.3875 0.403  0.4185 0.434  0.4495\n",
      " 0.465  0.4805 0.496 ]\n",
      "354 322\n",
      "33\n",
      "Error. Index not valid.\n"
     ]
    }
   ],
   "source": [
    "x = TMP117(time_step, duration, CC_params, OS_params, activeTimes) # creating TMP117 class\n",
    "power, data = x.Simulation() # getting power, data"
   ]
  },
  {
   "cell_type": "code",
   "execution_count": null,
   "metadata": {},
   "outputs": [],
   "source": [
    "plt.plot(power);"
   ]
  },
  {
   "cell_type": "markdown",
   "metadata": {},
   "source": [
    "***Single Model Idea***"
   ]
  },
  {
   "cell_type": "code",
   "execution_count": null,
   "metadata": {},
   "outputs": [],
   "source": [
    "class Sensor:\n",
    "    def __init__(self, sensorType, activeTimes, timestep):\n",
    "        self.type = sensorType\n",
    "        self.activeTimes = activeTimes\n",
    "        self.timestep = timestep\n",
    "        \n",
    "        # TEAMS DO NOT NEED TO CHANGE\n",
    "        self.params = { \"TEMP\": {\"OS\": OS_params, \"CC\": CC_params} , \"ACC\": {...}, \"MAG\": {...}, \"THERMO\": {...} } \n",
    "        self.allSensorModes = [\"\"\"teams do not change\"\"\"]\n",
    "    \n",
    "    def getTimes(self):\n",
    "        if self.type == \"TEMP\":\n",
    "            timestep = # depends on sensor\n",
    "            times = np.arange()\n",
    "        elif self.type == \"MAG\":\n",
    "            times = np.arange()\n",
    "        elif self.type == \"ACCELEROMETER\":\n",
    "            times = np.arange()\n",
    "        elif self.type == \"THERMO\":\n",
    "            times = np.arange()\n",
    "        return times\n",
    "        \n",
    "    def getPower(self, mode):\n",
    "        modes_array = getActiveVec()\n",
    "        power_arr = []\n",
    "        \n",
    "        if self.type == \"TEMP\":\n",
    "            for mode in modes_array:\n",
    "                if mode == \"CC\":\n",
    "                    # calculate power\n",
    "                elif mode == \"OS\"\n",
    "                    # calculate power\n",
    "                    \n",
    "        # continue for other sensor modes\n",
    "        elif self.type == \"ACCELEROMETER\":\n",
    "            pass\n",
    "        \n",
    "        return power_arr\n",
    "        \n",
    "    def getData(self, mode):\n",
    "        modes_array = getActiveVec()\n",
    "        data_arr = [0] * len(modes_array)\n",
    "        data = 0 # initially it will be zero\n",
    "        \n",
    "        if self.type == \"TEMP\":\n",
    "            #calculate data for each mode\n",
    "            for index, mode in enumerate(modes_array):\n",
    "                if mode == \"CC\":\n",
    "                    data_arr[index] = data\n",
    "                elif mode == \"OS\"\n",
    "                    data = data + 16\n",
    "                    data_arr[index] = data\n",
    "                    \n",
    "        elif self.type == \"ACCELEROMETER\":\n",
    "            pass\n",
    "        \n",
    "        return data_arr\n",
    "    \n",
    "    def getActiveVec(self, active_times): \n",
    "        times = getTimes()\n",
    "        \n",
    "        arr = [0] * len(times) # creating corresponding power array to time intervals, default values \n",
    "\n",
    "        # check if the given start and end time is a valid value in the time array and round to nearest value \n",
    "        for times in activeTimes:\n",
    "            start_index = int(times[0] / time_step) # getting index of the closest value to active times \n",
    "            end_index = int(times[1] / time_step)\n",
    "            mode = times[2]\n",
    "\n",
    "            if start_index < 0 or end_index > len(self.time): \n",
    "                print(\"Error. Index not valid for CC active times.\")\n",
    "                return -1\n",
    "\n",
    "            #if mode in allSensorModes: need to include this to check for error\n",
    "            for i in range(start_index, end_index+1):\n",
    "                arr[i] = mode\n",
    "\n",
    "            #else: \n",
    "                #print(\"mode {} entered in active times does not exist. These are the modes you can choose from: {}\".format(mode, self.allSensorModes))\n",
    "        return arr\n",
    "    \n",
    "    def runSim(self)\n",
    "        # returns power and data arrays for sensor\n",
    "        power = self.getPower()\n",
    "        data = self.getData()\n",
    "        \n",
    "        return power, data"
   ]
  },
  {
   "cell_type": "code",
   "execution_count": null,
   "metadata": {},
   "outputs": [],
   "source": [
    "sensorType = \n",
    "activeTimes =\n"
   ]
  },
  {
   "cell_type": "code",
   "execution_count": null,
   "metadata": {},
   "outputs": [],
   "source": [
    "s1 = Sensor(type = \"ACC\", activeTimes, timestep)\n",
    "power1, data1 = s1.runSim()\n",
    "\n",
    "s2 = Sensor(type = \"TEMP\")\n",
    "power2, data2 = s2.runSim()\n",
    "\n",
    "s3 = Sensor(type = \"MAG\")\n",
    "power3, data3 = s3.runSim()\n",
    "\n",
    "s4 = Sensor(type = \"THERMO\")\n",
    "power4, data4 = s4.runSim()"
   ]
  },
  {
   "cell_type": "markdown",
   "metadata": {},
   "source": [
    "# Accelerometer"
   ]
  },
  {
   "cell_type": "markdown",
   "metadata": {},
   "source": [
    "# Magnetometer"
   ]
  },
  {
   "cell_type": "markdown",
   "metadata": {},
   "source": []
  },
  {
   "cell_type": "markdown",
   "metadata": {},
   "source": [
    "# Thermopile"
   ]
  },
  {
   "cell_type": "markdown",
   "metadata": {},
   "source": []
  }
 ],
 "metadata": {
  "kernelspec": {
   "display_name": "Python 3 (ipykernel)",
   "language": "python",
   "name": "python3"
  },
  "language_info": {
   "codemirror_mode": {
    "name": "ipython",
    "version": 3
   },
   "file_extension": ".py",
   "mimetype": "text/x-python",
   "name": "python",
   "nbconvert_exporter": "python",
   "pygments_lexer": "ipython3",
   "version": "3.9.12"
  },
  "vscode": {
   "interpreter": {
    "hash": "aee8b7b246df8f9039afb4144a1f6fd8d2ca17a180786b69acc140d282b71a49"
   }
  }
 },
 "nbformat": 4,
 "nbformat_minor": 2
}
