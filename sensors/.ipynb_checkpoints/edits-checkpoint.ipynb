{
 "cells": [
  {
   "cell_type": "code",
   "execution_count": 1,
   "metadata": {},
   "outputs": [],
   "source": [
    "total_time = 658\n",
    "all_possible_modes = [\"OS_averages:8_conv:16\", \"CC_averages:32_conv:32\", \"CC_averages:64_conv:16\"]\n",
    "modedict = {\"OS_averages:8_conv:16\":15, \"CC_averages:32_conv:32\":15, \"CC_averages:64_conv:16\":40} # format is mode, num averages, conv cycle \n",
    "\n",
    "def generateActiveList(total_time: float, modedict:dict, **kwargs) -> list:\n",
    "    #frequency should be in hz. duration should be in seconds\n",
    "    finalArr = []\n",
    "    curTime = 0\n",
    "    flag = False\n",
    "    while curTime < total_time:\n",
    "        for key in modedict:\n",
    "            if curTime+modedict[key]>total_time:\n",
    "                flag = True\n",
    "                break\n",
    "            finalArr.append((curTime, curTime+modedict[key], key))\n",
    "            curTime += modedict[key]\n",
    "        if flag: \n",
    "            break\n",
    "    mode = len(finalArr) % len(modedict)\n",
    "    if finalArr[-1][1] > total_time:\n",
    "        finalArr[-1] = (finalArr[-1][0], total_time, list(modedict.keys())[mode])\n",
    "    elif finalArr[-1][1] < total_time:\n",
    "        finalArr.append((finalArr[-1][1], total_time, list(modedict.keys())[mode]))\n",
    "    print(finalArr)\n",
    "    return finalArr\n",
    "\n",
    "modedict = {\"gyroscope_accelerometer_DMP\":15, \"accelerometer_only\":15,\"low_power_wakeup_5\":40}\n",
    "active_times = generateActiveList(total_time=699, modedict=modedict)\n",
    "accel2 = MPU6050(time_step=1, duration=699, loop_rate=20, digital_low_pass=0, sample_rate_divisor=0)\n",
    "\n",
    "accel2.runSim(active_times)"
   ]
  },
  {
   "cell_type": "code",
   "execution_count": 2,
   "metadata": {},
   "outputs": [
    {
     "data": {
      "text/plain": [
       "[(0, 15, 'OS_averages:8_conv:16'),\n",
       " (15, 30, 'CC_averages:32_conv:32'),\n",
       " (30, 70, 'CC_averages:64_conv:16'),\n",
       " (70, 85, 'OS_averages:8_conv:16'),\n",
       " (85, 100, 'CC_averages:32_conv:32'),\n",
       " (100, 140, 'CC_averages:64_conv:16'),\n",
       " (140, 155, 'OS_averages:8_conv:16'),\n",
       " (155, 170, 'CC_averages:32_conv:32'),\n",
       " (170, 210, 'CC_averages:64_conv:16'),\n",
       " (210, 225, 'OS_averages:8_conv:16'),\n",
       " (225, 240, 'CC_averages:32_conv:32'),\n",
       " (240, 280, 'CC_averages:64_conv:16'),\n",
       " (280, 295, 'OS_averages:8_conv:16'),\n",
       " (295, 310, 'CC_averages:32_conv:32'),\n",
       " (310, 350, 'CC_averages:64_conv:16'),\n",
       " (350, 365, 'OS_averages:8_conv:16'),\n",
       " (365, 380, 'CC_averages:32_conv:32'),\n",
       " (380, 420, 'CC_averages:64_conv:16'),\n",
       " (420, 435, 'OS_averages:8_conv:16'),\n",
       " (435, 450, 'CC_averages:32_conv:32'),\n",
       " (450, 490, 'CC_averages:64_conv:16'),\n",
       " (490, 505, 'OS_averages:8_conv:16'),\n",
       " (505, 520, 'CC_averages:32_conv:32'),\n",
       " (520, 560, 'CC_averages:64_conv:16'),\n",
       " (560, 575, 'OS_averages:8_conv:16'),\n",
       " (575, 590, 'CC_averages:32_conv:32'),\n",
       " (590, 630, 'CC_averages:64_conv:16'),\n",
       " (630, 645, 'OS_averages:8_conv:16'),\n",
       " (645, 658, 'OS_averages:8_conv:16')]"
      ]
     },
     "execution_count": 2,
     "metadata": {},
     "output_type": "execute_result"
    }
   ],
   "source": [
    "generateActiveList(total_time, modedict)"
   ]
  },
  {
   "cell_type": "code",
   "execution_count": null,
   "metadata": {},
   "outputs": [],
   "source": []
  }
 ],
 "metadata": {
  "kernelspec": {
   "display_name": "Python 3 (ipykernel)",
   "language": "python",
   "name": "python3"
  },
  "language_info": {
   "codemirror_mode": {
    "name": "ipython",
    "version": 3
   },
   "file_extension": ".py",
   "mimetype": "text/x-python",
   "name": "python",
   "nbconvert_exporter": "python",
   "pygments_lexer": "ipython3",
   "version": "3.9.12"
  },
  "vscode": {
   "interpreter": {
    "hash": "aee8b7b246df8f9039afb4144a1f6fd8d2ca17a180786b69acc140d282b71a49"
   }
  }
 },
 "nbformat": 4,
 "nbformat_minor": 2
}
