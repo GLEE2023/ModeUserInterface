{
 "cells": [
  {
   "cell_type": "code",
   "execution_count": 50,
   "metadata": {},
   "outputs": [],
   "source": [
    "import numpy as np\n",
    "import matplotlib.pyplot as plt\n",
    "import pandas as pd\n",
    "from IPython.display import Image\n",
    "from matplotlib.widgets import Slider, RadioButtons\n",
    "from Sensor import Sensor"
   ]
  },
  {
   "cell_type": "markdown",
   "metadata": {},
   "source": [
    "# Temperature Sensor Configurations"
   ]
  },
  {
   "cell_type": "markdown",
   "metadata": {},
   "source": [
    "Explanation of below functions:  \n",
    "***Continuous conversion mode:*** The device continuously performs temperature conversions in this mode, as shown in Figure 7-3, and updates the temperature result register at the end of every active conversion  \n",
    "***One-shot mode:*** After the device completes a (temperature conversion) one-shot conversion, the device goes to the *low-power shutdown mode*.  "
   ]
  },
  {
   "cell_type": "code",
   "execution_count": 61,
   "metadata": {},
   "outputs": [],
   "source": [
    "class Sensor:\n",
    "    def __init__(self, **config):\n",
    "        self.__dict__.update(config)\n",
    "        #config is a dictionary of variable length.\n",
    "        #Initialization of the child sensors would be like this:\n",
    "        #accelerometer(mode=\"accelerometer_only\", sample_rate_divisor=142, etc=etc)\n",
    "\n",
    "    def getPowerUsage(self,power_used,time):\n",
    "        pass\n",
    "        # won't be able to call getPower\n",
    "        \n",
    "    def getDataAccumulated(self, active_vector, bits_per_second):\n",
    "        #in development!\n",
    "        data_vector = []\n",
    "        tracker = 0\n",
    "        for i in active_vector:\n",
    "            if i != 0:\n",
    "                tracker += bits_per_second\n",
    "            data_vector.append(tracker)\n",
    "            \n",
    "        return data_vector\n",
    "        # this may need to be a specific function for each sensor based on how many modes are included in the array to plot \n",
    "    \n",
    "    def getActiveTimes(self, active_times):\n",
    "        length = len(self.time)\n",
    "        arr = [0] * length # creating corresponding power array to time intervals, default values \n",
    "\n",
    "        # check if the given start and end time is a valid value in the time array and round to nearest value \n",
    "        for times in active_times:\n",
    "            start_index = int(times[0] / self.time_step) # getting index of the closest value to active times \n",
    "            end_index = int(times[1] / self.time_step)\n",
    "            \n",
    "            if start_index < 0 or end_index > len(self.time): \n",
    "                print(\"Error. Index not valid.\")\n",
    "                return -1\n",
    "            \n",
    "            for i in range(start_index, end_index+1):\n",
    "                arr[i] = 1\n",
    "                \n",
    "        return arr\n",
    "    \n",
    "    def plotData(self):\n",
    "        pass"
   ]
  },
  {
   "cell_type": "code",
   "execution_count": 55,
   "metadata": {},
   "outputs": [],
   "source": [
    "class TMP117(Sensor):\n",
    "    def __init__(self, **params):\n",
    "        super(TMP117, self).__init__(**params)\n",
    "        for i,v in (self.__dict__).items():\n",
    "            print(i,v)\n",
    "#     def __init__(self, mode, duration, CC_params, OS_params):\n",
    "#         self.mode = mode\n",
    "#         self.time_step = CC_params[0]\n",
    "#         self.duration = duration\n",
    "#         self.CC_params = CC_params\n",
    "#         self.OS_params = OS_params\n",
    "#         self.conv_cycle = CC_params[0]\n",
    "#         self.time = np.arange(0,self.duration,self.time_step) #time at which to collect data\n",
    "        #self.active_times = \n",
    "    \n",
    "    def checkParams(self):\n",
    "#         if 'mode' in globals():\n",
    "#             print('valid')\n",
    "        for i,v in (self.__dict__).items():\n",
    "            print(i,v)\n",
    "            \n",
    "#         if self.c:\n",
    "#             self.d = \"The variable exists\"\n",
    "#         if 'd' in self.__dict__:\n",
    "#             print(self.d)\n",
    "        \n",
    "    def getPower(self, active_times):\n",
    "        standby = 1.25 / 1000 # default power when active conversion is off\n",
    "        power = 0\n",
    "        \n",
    "        if self.mode == \"CC\": \n",
    "            standByCurrentConsumption = 1.25\n",
    "            activeCurrentConsumption = 135\n",
    "            convCycleTime = self.CC_params[0]\n",
    "            num_averages = self.CC_params[1]\n",
    "\n",
    "            activeConversionTime = num_averages*0.0155\n",
    "            standbyTime = convCycleTime - activeConversionTime\n",
    "            amps = ((activeCurrentConsumption*activeConversionTime) + (standByCurrentConsumption*standbyTime)) / convCycleTime\n",
    "            power_CC = (amps * 3.3) / 1000\n",
    "\n",
    "        elif self.mode == \"OS\": \n",
    "            # active conversion time equals conversion cycle time\n",
    "            shutdownCurrentConsumption = 1.25\n",
    "            shutdownTime = convCycleTime - activeConversionTime\n",
    "            num_averages = self.OS_params[0]\n",
    "\n",
    "            activeConversionTime = num_averages*0.0155\n",
    "            power_OS = (activeCurrentConsumption * 3.3) / 1000\n",
    "        \n",
    "        arr = self.returnArr(active_times)\n",
    "        a = np.array(arr)\n",
    "        #power_arr = np.where(a == 1, power, 0)\n",
    "    \n",
    "        return power_arr\n",
    "\n",
    "#     def returnArr(self, active_times): \n",
    "        #time = time.tolist()\n",
    "        \n",
    "\n",
    "    def getData(self, active_times):\n",
    "        '''\n",
    "        The data in the result register is in two's complement format, \n",
    "        has a data width of 16 bits and a resolution of 7.8125 m°C.\n",
    "        \n",
    "        Changing the conversion cycle period also affects the temperature result update rate because the temperature \n",
    "        result register is updated at the end of every active conversion. \n",
    "        \n",
    "        Storing 16-bit value at the end of each conversion cycle\n",
    "        '''\n",
    "        \n",
    "        # 16 bits, 32 bits, 64 bits\n",
    "        # 0.0155 s, 0.0155 * 2, 0.0155 * 3\n",
    "        data = 0\n",
    "        self.conv_cycle\n",
    "        \n",
    "        arr = self.returnArr(active_times) # returns array of 0, 1's, and 2's representing mode active\n",
    "        data_arr = arr\n",
    "        length = len(arr)\n",
    "        \n",
    "        for index, mode in enumerate(arr):\n",
    "            # first time sensor is turned on\n",
    "            \n",
    "            if mode == 0:\n",
    "                data_arr[index] = data\n",
    "\n",
    "            elif mode == 1:\n",
    "                data = data + 16\n",
    "                data_arr[index] = data\n",
    "            \n",
    "            #elif mode == 2:\n",
    "                    \n",
    "        return data_arr\n",
    "\n",
    "    def Simulation(self, active_times):\n",
    "        power = self.getPower(active_times)\n",
    "        data = self.getData(active_times)\n",
    "\n",
    "        return power, data"
   ]
  },
  {
   "cell_type": "markdown",
   "metadata": {},
   "source": []
  },
  {
   "cell_type": "code",
   "execution_count": null,
   "metadata": {},
   "outputs": [],
   "source": []
  },
  {
   "cell_type": "code",
   "execution_count": 64,
   "metadata": {},
   "outputs": [],
   "source": [
    "activeTimes = [ (0,2,\"CC\") , (2.5, 3, \"OS\")]\n",
    "#activeTimesCC = [[0, 0.1], [0.6, 0.7]]\n",
    "#activeTimesOS = [[0.3, 0.4], [1.5,2]]"
   ]
  },
  {
   "cell_type": "code",
   "execution_count": null,
   "metadata": {},
   "outputs": [],
   "source": []
  },
  {
   "cell_type": "markdown",
   "metadata": {},
   "source": [
    "### Parameters for TMP117 (to be changed by teams)  \n",
    "...add more explanation of what each input does later  \n",
    "add explanation of what possible inputs including default are for each input ...  \n",
    "\n",
    "**Continuous conversion (if selected) params**:  \n",
    "**possible conversion cycle times (see column 1 of table below)**: 0.0155, 0.125, 0.25, 0.5, 1, 4, 8, 16  \n",
    "**possible averaging inputs**: 0, 8, 32, 64\n"
   ]
  },
  {
   "cell_type": "code",
   "execution_count": null,
   "metadata": {},
   "outputs": [],
   "source": [
    "#Image(\"convTimes.png\")"
   ]
  },
  {
   "cell_type": "markdown",
   "metadata": {},
   "source": [
    "#### TO-DO (teams set inputs)"
   ]
  },
  {
   "cell_type": "code",
   "execution_count": 56,
   "metadata": {},
   "outputs": [],
   "source": [
    "mode = 'CC'\n",
    "duration = 0.5 # possible inputs: ...\n",
    "convCycle = 0.0155 # possible inputs: .0155, 0.125, 0.25, 0.5, 1, 4, 8, 16, see above table (column 1)\n",
    "num_averages = 0 # possible inputs: 0, 8, 32, 64\n",
    "CC_params = [convCycle, num_averages] # set to 0 if mode chosen is not CC\n",
    "OS_params = [num_averages] # set to 0 if mode chosen is not OS"
   ]
  },
  {
   "cell_type": "code",
   "execution_count": 1,
   "metadata": {},
   "outputs": [
    {
     "ename": "NameError",
     "evalue": "name 'TMP117' is not defined",
     "output_type": "error",
     "traceback": [
      "\u001b[0;31m---------------------------------------------------------------------------\u001b[0m",
      "\u001b[0;31mNameError\u001b[0m                                 Traceback (most recent call last)",
      "Input \u001b[0;32mIn [1]\u001b[0m, in \u001b[0;36m<cell line: 1>\u001b[0;34m()\u001b[0m\n\u001b[0;32m----> 1\u001b[0m x \u001b[38;5;241m=\u001b[39m \u001b[43mTMP117\u001b[49m(mode \u001b[38;5;241m=\u001b[39m mode, duration \u001b[38;5;241m=\u001b[39m duration, CC_params \u001b[38;5;241m=\u001b[39m CC_params, OS_params \u001b[38;5;241m=\u001b[39m OS_params) \u001b[38;5;66;03m# creating TMP117 class\u001b[39;00m\n\u001b[1;32m      2\u001b[0m active_times \u001b[38;5;241m=\u001b[39m [ [\u001b[38;5;241m0.05\u001b[39m, \u001b[38;5;241m0.1\u001b[39m], [\u001b[38;5;241m0.3\u001b[39m, \u001b[38;5;241m0.4\u001b[39m] ] \u001b[38;5;66;03m# on periods, have to be multiples of the time step\u001b[39;00m\n\u001b[1;32m      3\u001b[0m power, data \u001b[38;5;241m=\u001b[39m x\u001b[38;5;241m.\u001b[39mSimulation(active_times)\n",
      "\u001b[0;31mNameError\u001b[0m: name 'TMP117' is not defined"
     ]
    }
   ],
   "source": [
    "x = TMP117(mode = mode, duration = duration, CC_params = CC_params, OS_params = OS_params) # creating TMP117 class\n",
    "active_times = [ [0.05, 0.1], [0.3, 0.4] ] # on periods, have to be multiples of the time step\n",
    "power, data = x.Simulation(active_times) # getting power, data\n",
    "\n",
    "#x.checkParams()"
   ]
  },
  {
   "cell_type": "code",
   "execution_count": null,
   "metadata": {},
   "outputs": [],
   "source": [
    "sensor = TMP117(mode, duration, CC_params, OS_params)\n",
    "dude = sensor.runSim()"
   ]
  },
  {
   "cell_type": "code",
   "execution_count": null,
   "metadata": {},
   "outputs": [],
   "source": [
    "plt.plot(power);"
   ]
  },
  {
   "cell_type": "markdown",
   "metadata": {},
   "source": [
    "***Single Model Idea***"
   ]
  },
  {
   "cell_type": "code",
   "execution_count": null,
   "metadata": {},
   "outputs": [],
   "source": [
    "class Sensor:\n",
    "    def __init__(self, sensorType, activeTimes, timestep):\n",
    "        self.type = sensorType\n",
    "        self.activeTimes = activeTimes\n",
    "        self.timestep = timestep\n",
    "        \n",
    "        # TEAMS DO NOT NEED TO CHANGE\n",
    "        self.params = { \"TEMP\": {\"OS\": OS_params, \"CC\": CC_params} , \"ACC\": {...}, \"MAG\": {...}, \"THERMO\": {...} } \n",
    "        self.allSensorModes = [\"\"\"teams do not change\"\"\"]\n",
    "    \n",
    "    def getTimes(self):\n",
    "        if self.type == \"TEMP\":\n",
    "            timestep = # depends on sensor\n",
    "            times = np.arange()\n",
    "        elif self.type == \"MAG\":\n",
    "            times = np.arange()\n",
    "        elif self.type == \"ACCELEROMETER\":\n",
    "            times = np.arange()\n",
    "        elif self.type == \"THERMO\":\n",
    "            times = np.arange()\n",
    "        return times\n",
    "        \n",
    "    def getPower(self, mode):\n",
    "        modes_array = getActiveVec()\n",
    "        power_arr = []\n",
    "        \n",
    "        if self.type == \"TEMP\":\n",
    "            for mode in modes_array:\n",
    "                if mode == \"CC\":\n",
    "                    # calculate power\n",
    "                elif mode == \"OS\"\n",
    "                    # calculate power\n",
    "                    \n",
    "        # continue for other sensor modes\n",
    "        elif self.type == \"ACCELEROMETER\":\n",
    "            pass\n",
    "        \n",
    "        return power_arr\n",
    "        \n",
    "    def getData(self, mode):\n",
    "        modes_array = getActiveVec()\n",
    "        data_arr = [0] * len(modes_array)\n",
    "        data = 0 # initially it will be zero\n",
    "        \n",
    "        if self.type == \"TEMP\":\n",
    "            #calculate data for each mode\n",
    "            for index, mode in enumerate(modes_array):\n",
    "                if mode == \"CC\":\n",
    "                    data_arr[index] = data\n",
    "                elif mode == \"OS\"\n",
    "                    data = data + 16\n",
    "                    data_arr[index] = data\n",
    "                    \n",
    "        elif self.type == \"ACCELEROMETER\":\n",
    "            pass\n",
    "        \n",
    "        return data_arr\n",
    "    \n",
    "    def getActiveVec(self, active_times): \n",
    "        times = getTimes()\n",
    "        \n",
    "        arr = [0] * len(times) # creating corresponding power array to time intervals, default values \n",
    "\n",
    "        # check if the given start and end time is a valid value in the time array and round to nearest value \n",
    "        for times in activeTimes:\n",
    "            start_index = int(times[0] / time_step) # getting index of the closest value to active times \n",
    "            end_index = int(times[1] / time_step)\n",
    "            mode = times[2]\n",
    "\n",
    "            if start_index < 0 or end_index > len(self.time): \n",
    "                print(\"Error. Index not valid for CC active times.\")\n",
    "                return -1\n",
    "\n",
    "            #if mode in allSensorModes: need to include this to check for error\n",
    "            for i in range(start_index, end_index+1):\n",
    "                arr[i] = mode\n",
    "\n",
    "            #else: \n",
    "                #print(\"mode {} entered in active times does not exist. These are the modes you can choose from: {}\".format(mode, self.allSensorModes))\n",
    "        return arr\n",
    "    \n",
    "    def runSim(self)\n",
    "        # returns power and data arrays for sensor\n",
    "        power = self.getPower()\n",
    "        data = self.getData()\n",
    "        \n",
    "        return power, data"
   ]
  },
  {
   "cell_type": "code",
   "execution_count": null,
   "metadata": {},
   "outputs": [],
   "source": [
    "sensorType = \n",
    "activeTimes =\n"
   ]
  },
  {
   "cell_type": "code",
   "execution_count": null,
   "metadata": {},
   "outputs": [],
   "source": [
    "s1 = Sensor(type = \"ACC\", activeTimes, timestep)\n",
    "power1, data1 = s1.runSim()\n",
    "\n",
    "s2 = Sensor(type = \"TEMP\")\n",
    "power2, data2 = s2.runSim()\n",
    "\n",
    "s3 = Sensor(type = \"MAG\")\n",
    "power3, data3 = s3.runSim()\n",
    "\n",
    "s4 = Sensor(type = \"THERMO\")\n",
    "power4, data4 = s4.runSim()"
   ]
  },
  {
   "cell_type": "markdown",
   "metadata": {},
   "source": [
    "# Accelerometer"
   ]
  },
  {
   "cell_type": "markdown",
   "metadata": {},
   "source": [
    "# Magnetometer"
   ]
  },
  {
   "cell_type": "markdown",
   "metadata": {},
   "source": []
  },
  {
   "cell_type": "markdown",
   "metadata": {},
   "source": [
    "# Thermopile"
   ]
  },
  {
   "cell_type": "markdown",
   "metadata": {},
   "source": []
  }
 ],
 "metadata": {
  "kernelspec": {
   "display_name": "Python 3 (ipykernel)",
   "language": "python",
   "name": "python3"
  },
  "language_info": {
   "codemirror_mode": {
    "name": "ipython",
    "version": 3
   },
   "file_extension": ".py",
   "mimetype": "text/x-python",
   "name": "python",
   "nbconvert_exporter": "python",
   "pygments_lexer": "ipython3",
   "version": "3.9.12"
  },
  "vscode": {
   "interpreter": {
    "hash": "aee8b7b246df8f9039afb4144a1f6fd8d2ca17a180786b69acc140d282b71a49"
   }
  }
 },
 "nbformat": 4,
 "nbformat_minor": 2
}
