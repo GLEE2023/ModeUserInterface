{
 "cells": [
  {
   "cell_type": "code",
   "execution_count": 97,
   "metadata": {},
   "outputs": [],
   "source": [
    "#from TMP117 import TMP117"
   ]
  },
  {
   "cell_type": "code",
   "execution_count": 152,
   "metadata": {},
   "outputs": [],
   "source": [
    "import numpy as np\n",
    "import pandas as pd\n",
    "import matplotlib.pyplot as plt\n",
    "import random \n",
    "\n",
    "class TMP117():\n",
    "    def __init__(self, time_step, duration, activeTimeParams): \n",
    "        self.time_step = time_step\n",
    "        self.duration = duration\n",
    "        self.time = np.arange(0, duration, time_step) #time at which to collect data\n",
    "        self.activeTimeParams = activeTimeParams\n",
    "        \n",
    "    def errorCheck(self):\n",
    "        for times in self.activeTimeParams:\n",
    "            averages = [0,8,32,64]\n",
    "            cycleTimes = [0.0155, 0.125, 0.25, 0.5, 1, 4, 8, 16]\n",
    "            modes = [\"OS\", \"CC\"]\n",
    "            if self.activeTimeParams[times][0] not in averages:\n",
    "                print(\"ERROR: Num averages chosen not valid. You chose {}. Valid params to choose from: {}\".format(self.activeTimeParams[times][0], averages))\n",
    "                \n",
    "            if self.activeTimeParams[times][1] not in cycleTimes:\n",
    "                print(\"ERROR: Conv Cycle time chosen not valid. You chose {}. Valid params to choose from: {}\".format(self.activeTimeParams[times][1], cycleTimes))\n",
    "             \n",
    "            if self.activeTimeParams[times][2] not in modes:\n",
    "                print(\"ERROR: Mode chosen not valid. You chose {}. Valid params to choose from: {}\".format(self.activeTimeParams[times][2], modes))\n",
    "                \n",
    "    def computePower(self, num_averages, convCycleTime, mode):\n",
    "        activeCurrentConsumption = 135 # micro amps\n",
    "        activeConversionTime = num_averages*0.0155\n",
    "\n",
    "        standByCurrentConsumption = 1.25 # micro amps\n",
    "        standbyTime = convCycleTime - activeConversionTime\n",
    "        \n",
    "        SDcurrent = 250/ 1000000 # micro amps\n",
    "        \n",
    "        if mode == \"CC\":\n",
    "            current = ((activeCurrentConsumption*activeConversionTime)+(standByCurrentConsumption*standbyTime))/convCycleTime\n",
    "\n",
    "        elif mode == \"OS\":\n",
    "            current = ((activeCurrentConsumption*activeConversionTime)+(SDcurrent*standbyTime))/convCycleTime\n",
    "            \n",
    "        power = (current * 3.3)/1000 # milli watts\n",
    "        \n",
    "        return power\n",
    "    \n",
    "    def getAllModesPower(self):\n",
    "        length = len(self.time)\n",
    "        power_arr = [0] * length # creating corresponding power array to time intervals, default values\n",
    "\n",
    "        # check if the given start and end time is a valid value in the time array and round to nearest value \n",
    "        for times in self.activeTimeParams:\n",
    "            start_index = int(times[0] / self.time_step) # getting index of the closest value to active times \n",
    "            end_index = int(times[1] / self.time_step)\n",
    "\n",
    "            if start_index < 0 or end_index > len(self.time): # not valid time\n",
    "                print(\"Error. Index not valid.\")\n",
    "                return -1\n",
    "\n",
    "            mode = self.activeTimeParams[times][2]\n",
    "            averages = self.activeTimeParams[times][0]\n",
    "            convCycle = self.activeTimeParams[times][1]\n",
    "            power = self.computePower(averages, convCycle, mode)\n",
    "            for i in range(start_index, end_index):\n",
    "                power_arr[i] = power\n",
    "        \n",
    "        return power_arr\n",
    "            \n",
    "    def getAllModesData(self):\n",
    "        '''\n",
    "        The data in the result register is in two's complement format, \n",
    "        has a data width of 16 bits and a resolution of 7.8125 m°C.\n",
    "        \n",
    "        Changing the conversion cycle period also affects the temperature result update rate because the temperature \n",
    "        result register is updated at the end of every active conversion. \n",
    "        \n",
    "        Storing 16-bit value at the end of each conversion cycle\n",
    "        '''\n",
    "        \n",
    "        bits_per_cycle = 16\n",
    "        length = len(self.time)\n",
    "        data_arr = [0] * length # creating corresponding power array to time intervals, default values \n",
    "        data_accumulated = 0\n",
    "        \n",
    "        for times in self.activeTimeParams: # for each active period\n",
    "            start_index = int(times[0] / self.time_step) \n",
    "            end_index = int(times[1] / self.time_step)\n",
    "            \n",
    "            #calculating data per step in active time period\n",
    "            convCycle = self.activeTimeParams[times][1]\n",
    "            bits_per_second = bits_per_cycle / convCycle # bits per second\n",
    "            activeTimeTotal = times[1]-times[0] # getting num of seconds of active period\n",
    "            bits_total = bits_per_second * activeTimeTotal # total bits during that active period\n",
    "            num_steps = end_index-start_index \n",
    "            bits_per_step = bits_total / num_steps\n",
    "            \n",
    "            for i in range(start_index, length):\n",
    "                if i < end_index:\n",
    "                    data_accumulated += bits_per_step\n",
    "                    \n",
    "                data_arr[i] = data_accumulated \n",
    "            \n",
    "        return data_arr\n",
    "    \n",
    "    def getActiveTimes(self):\n",
    "        active_times = []\n",
    "        for times in self.activeTimeParams: # for each active period\n",
    "            numaverage = self.activeTimeParams[times][0]\n",
    "            convCycle = self.activeTimeParams[times][1]\n",
    "            mode = self.activeTimeParams[times][2]\n",
    "            \n",
    "            string = \"Mode:\" + str(mode) +  \"_ Average:\" + str(numaverage) + \"_ CycleTime:\" + str(convCycle)\n",
    "            \n",
    "            active_times.append((times[0], times[1], string)) # getting start, end, and name of mode\n",
    "            \n",
    "        return active_times\n",
    "    \n",
    "    def Simulation(self):\n",
    "        self.errorCheck()\n",
    "        power = self.getAllModesPower()\n",
    "        data = self.getAllModesData()\n",
    "\n",
    "        return power, data, self.time"
   ]
  },
  {
   "cell_type": "markdown",
   "metadata": {},
   "source": [
    "# Temperature Sensor Configurations"
   ]
  },
  {
   "cell_type": "markdown",
   "metadata": {},
   "source": [
    "***Continuous conversion mode:*** The device continuously performs temperature conversions in this mode, as shown in Figure 7-3, and updates the temperature result register at the end of every active conversion  \n",
    "***One-shot mode:*** After the device completes a (temperature conversion) one-shot conversion, the device goes to the *low-power shutdown mode*.  "
   ]
  },
  {
   "cell_type": "markdown",
   "metadata": {},
   "source": [
    "### Parameters for TMP117 (to be changed by teams)  \n",
    "...add more explanation of what each input does later  \n",
    "add explanation of what possible inputs including default are for each input ...  \n",
    "\n",
    "**Continuous conversion (if selected) params**:  \n",
    "**possible conversion cycle times (see column 1 of table below)**: 0.0155, 0.125, 0.25, 0.5, 1, 4, 8, 16  \n",
    "**possible averaging inputs**: 0, 8, 32, 64\n"
   ]
  },
  {
   "cell_type": "code",
   "execution_count": 99,
   "metadata": {},
   "outputs": [],
   "source": [
    "#Image(\"convTimes.png\")"
   ]
  },
  {
   "cell_type": "markdown",
   "metadata": {},
   "source": [
    "#### TO-DO (teams set inputs)"
   ]
  },
  {
   "cell_type": "code",
   "execution_count": 155,
   "metadata": {},
   "outputs": [],
   "source": [
    "time_step = 0.0155\n",
    "duration = 100\n",
    "\n",
    "# params to set, CONV CYCLE TIME > TIME INTERVAL\n",
    "time1 = (0, 50)\n",
    "numaverage1 = 0\n",
    "convCycleTime1 = 16\n",
    "mode1 = \"OS\"\n",
    "\n",
    "# time2 = (70, 70.5)\n",
    "# numaverage2 = 8\n",
    "# convCycleTime2 = 0.0155\n",
    "# mode2 = \"CC\"\n",
    "\n",
    "activeTimeParams = { time1: [numaverage1, convCycleTime1, mode1] }"
   ]
  },
  {
   "cell_type": "code",
   "execution_count": 156,
   "metadata": {},
   "outputs": [],
   "source": [
    "x = TMP117(time_step, duration, activeTimeParams) # creating TMP117 class\n",
    "power, data, time = x.Simulation() # getting power, data, time"
   ]
  },
  {
   "cell_type": "code",
   "execution_count": 157,
   "metadata": {},
   "outputs": [],
   "source": [
    "activeTimes = x.getActiveTimes()"
   ]
  },
  {
   "cell_type": "code",
   "execution_count": 158,
   "metadata": {},
   "outputs": [],
   "source": [
    "# test this next time\n",
    "def plotData(power_vector, data_vector, time_vector, active_times):\n",
    "        #basic function to plot power and data vs time. \n",
    "        f = plt.figure(figsize=(10,10))\n",
    "        ax3 = f.add_subplot(311)\n",
    "        plt.tick_params('x', labelbottom=False)\n",
    "        ticks = {}\n",
    "        colors = []\n",
    "        for i in range(len(active_times)):\n",
    "            color = \"#%06x\" % random.randint(0, 0xFFFFFF)\n",
    "            colors.append(color)\n",
    "        for i,v in enumerate(active_times):\n",
    "            if v[2] not in ticks.keys():\n",
    "                ticks[v[2]] = i\n",
    "            plt.plot([v[0],v[1]],[ticks[v[2]],ticks[v[2]]],color=colors[ticks[v[2]]])\n",
    "        plt.yticks(list(ticks.values()),list(ticks.keys()))\n",
    "        \n",
    "        line = np.full_like(time_vector, 1)\n",
    "        \n",
    "        ax1 = f.add_subplot(312, sharex=ax3)\n",
    "        power_plot, = plt.plot(time_vector, power_vector)\n",
    "        plt.tick_params('x', labelbottom=False)\n",
    "        #power_value_limit = [0,0.1]\n",
    "        #ax1.set_ylim(power_value_limit)\n",
    "        ax1.set_ylabel('mW')\n",
    "\n",
    "        ax2 = f.add_subplot(313, sharex=ax3)\n",
    "        data_plot, = plt.plot(time_vector, data_vector)\n",
    "        # make these tick labels invisible\n",
    "        plt.tick_params('x', labelsize=12)\n",
    "        #data_value_limit = [0,500]\n",
    "        #ax2.set_ylim(data_value_limit)\n",
    "        ax2.set_ylabel('Bytes')\n",
    "        ax2.set_xlabel('Seconds')\n",
    "\n",
    "        plt.show()"
   ]
  },
  {
   "cell_type": "code",
   "execution_count": 159,
   "metadata": {},
   "outputs": [
    {
     "data": {
      "image/png": "[encoded data removed]",
      "text/plain": [
       "<Figure size 720x720 with 3 Axes>"
      ]
     },
     "metadata": {
      "needs_background": "light"
     },
     "output_type": "display_data"
    }
   ],
   "source": [
    "plotData(power, data, time, activeTimes)"
   ]
  },
  {
   "cell_type": "code",
   "execution_count": null,
   "metadata": {},
   "outputs": [],
   "source": []
  }
 ],
 "metadata": {
  "kernelspec": {
   "display_name": "Python 3 (ipykernel)",
   "language": "python",
   "name": "python3"
  },
  "language_info": {
   "codemirror_mode": {
    "name": "ipython",
    "version": 3
   },
   "file_extension": ".py",
   "mimetype": "text/x-python",
   "name": "python",
   "nbconvert_exporter": "python",
   "pygments_lexer": "ipython3",
   "version": "3.9.12"
  },
  "vscode": {
   "interpreter": {
    "hash": "aee8b7b246df8f9039afb4144a1f6fd8d2ca17a180786b69acc140d282b71a49"
   }
  }
 },
 "nbformat": 4,
 "nbformat_minor": 2
}
