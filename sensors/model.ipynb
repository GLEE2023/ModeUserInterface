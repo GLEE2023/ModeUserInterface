{
 "cells": [
  {
   "cell_type": "code",
   "execution_count": null,
   "metadata": {},
   "outputs": [],
   "source": [
    "from TMP117 import TMP117\n",
    "from MPU6050 import MPU6050\n",
    "from TP import TP\n",
    "from CAP11NA import CAP11NA\n",
    "from BM1422 import BM1422\n",
    "from SM141K import SM141K \n",
    "from helperFunctions import generateActiveList, plotTogether\n",
    "import numpy as np\n",
    "from generateBitstringsCopy import ArduinoConfig, readArduinoConfigs"
   ]
  },
  {
   "cell_type": "markdown",
   "metadata": {},
   "source": [
    "# Model Description\n",
    "* This model is to be used by teams for the GLEE 2022 workshop\n",
    "* The teams will change parameters that will affect the power and data for each sensor\n",
    "* The output of this model will be a plot of each sensor's power/data output vs time as well as a plot with all the sensor outputs in a single plot\n",
    "* A solar model is also included for reference\n",
    "* All the code for this model is in the .py files and accessed in this file through the import statements at the top of this file\n",
    "***  \n"
   ]
  },
  {
   "cell_type": "markdown",
   "metadata": {},
   "source": [
    "# How to use Jimmy\n",
    "Welcome to Jimmy, an interactive model of the individual sensors on a LunaSat. Jimmy's main goal is to measure the power and data rates of different sensor mode configurations.\n",
    "\n",
    "Sensors are defined as a class object each with customizable parameters. Changing these parameters can change the way your LunaSat behaves, such as taking more measurements and collecting more data, or going into low power mode and saving resources.\n",
    "\n",
    "To demonstrate how to change configuartions of modes on our simulated LunaSat, we will go through an example starting with the temperature sensor."
   ]
  },
  {
   "cell_type": "markdown",
   "metadata": {},
   "source": [
    "```python\n",
    "    tmp = TMP117()\n",
    "```"
   ]
  },
  {
   "cell_type": "markdown",
   "metadata": {},
   "source": [
    "This is where we instantiate our temperature sensor object, and where we will pass in variables such as the duration that it will be activated, the time step, and the active time parameters. Notice how we don't pass anything in to ```TMP117()```. If we tried to run this without passing in parameters, it would result in an error. \n",
    "\n",
    "We need to be sure to pass the right values in to our object! Lets do that below.\n",
    "\n",
    "Duration controls how long *all* the sensors are active for. If you choose a larger duration > 1000 intuitively you need to edit the times in the array defaultOption (referenced below).   \n",
    "Time step should be a value between 0 and 1 so that the plots display the different times better. "
   ]
  },
  {
   "cell_type": "code",
   "execution_count": null,
   "metadata": {},
   "outputs": [],
   "source": [
    "duration = 1000 # Duration controls how long all of the sensors are active for \n",
    "time_step = 1 # time_step controls the distance between data values. "
   ]
  },
  {
   "cell_type": "markdown",
   "metadata": {},
   "source": [
    "Lets go through this code line by line. The ```ModesExample``` array represents the cycle that our sensor will repeatadly go through for as long as ```duration```. So in this case, we will use \"CC_32_16\" (these are different modes of the temperature sensor, you'll learn more about them in the next section) for 15 seconds, then \"OS_64_1\" for 15 seconds, then \"OS_32_0.0155\" for 40 seconds, as so on. You can add as many modes as you want!\n",
    "\n",
    "The ```active_times``` variable represents when each mode is active and at what times, and is obtained from the `generateActiveList()` function. Just know that you'll need this for plotting data, which will be done in the next section.\n",
    "\n",
    "Finally, ```tmp``` is our sensor object, which we will use to plot the graphs of data and power over time. We pass necessary variables to the tmp object for the plotting function. \n",
    "\n",
    "*The only things that the user should change: time step, duration, ```ModesExample``` array.*"
   ]
  },
  {
   "cell_type": "code",
   "execution_count": null,
   "metadata": {},
   "outputs": [],
   "source": [
    "ModesExample = np.array([(\"CC_32_16\",50), (\"OS_64_1\",90), (\"OS_32_0.0155\",40), (\"OFF_0_0\",100)])\n",
    "active_times = generateActiveList(duration, ModesExample)\n",
    "tmp = TMP117(time_step, duration, active_times, loop_rate=20)"
   ]
  },
  {
   "cell_type": "markdown",
   "metadata": {},
   "source": [
    "`runSim()` is how we generate the plots.  \n",
    "power_tmp, data_tmp, and time_tmp are variables that we use elsewhere to plot all the sensors data. plot=True will call the plotting function whereas plot=False will not.  \n",
    "\n",
    "Description of the plots:  \n",
    "The first figure shows when each mode is active by plotting a solid line that corresponds to the time when it is active. The next figure plots the average power for the tmp sensor and the last figure plots the average data. The x-axis is the time in seconds. \n"
   ]
  },
  {
   "cell_type": "code",
   "execution_count": null,
   "metadata": {},
   "outputs": [],
   "source": [
    "power_tmp, data_tmp, time_tmp= tmp.runSim(plot=True)"
   ]
  },
  {
   "cell_type": "markdown",
   "metadata": {},
   "source": [
    "Beautiful! Feel free to play around with different lengths of each mode to see how the plot changes.  \n",
    "Now that you have had a brief introduction, take care to read through the descriptions of each sensor then jump right in to making your own configuration!\n",
    "***"
   ]
  },
  {
   "cell_type": "markdown",
   "metadata": {},
   "source": [
    "# `Temperature Sensor Configurations`\n",
    "### General Description:\n",
    "* \"The TMP117 is a high-precision digital temperature sensor\"\n",
    "* It provides a 16-bit temperature result with accuracy of up to $\\pm 0.1 ^{\\circ}C$ and resolution of $\\pm 0.0078 ^{\\circ}C$. \n",
    "* TMP117 has a programmable EEPROM (electrically erasable programmable read-only memory) and has 48-bits of memory available for general use  \n",
    "  \n",
    "* The selectable averaging option: allows users to configure the device to report the average of multiple temp. conversions. This means that the tmp sensor accumulates the conversion results and reports the average of all those results at the end of each conversion cycle. The possible averaging options are 0, 8, 32, or 64 averages.\n",
    "\n",
    "| Modes | Description | Params |\n",
    "|---|:---:|---|\n",
    "| OS One-Shot Mode | After the device completes a one-shot conversion (temperature conversion), the device goes to the low-power shutdown mode.  For OS mode, the conv cycle time is the active time so the possible conv cycle times are only 0.0155, 0.125, 0.5, 1 since there is no standby. | Possible conversion cycle times: 0.0155, 0.125, 0.5, 1  Possible averaging inputs: 0, 8, 32, 64 |\n",
    "| CC Continuous Conversion Mode | The device continuously performs temperature conversions in this mode, as shown in Table, and updates the temperature result register at the end of every active conversion.  The total conversion cycle includes the active conversion time and standby time. | Possible conversion cycle times: 0.0155, 0.125, 0.25, 0.5, 1, 4, 8, 16   Possible averaging inputs: 0, 8, 32, 64 |  \n",
    "\n",
    "<center> <img src='convTimes.png' width=\"700\" height=\"200\">  \n",
    "\n",
    "*Columns represent averaging: 0, 8, 32, 64 (left to right)*  \n",
    "*Rows represent active conversion time: 0.0155, 0.125, 0.25, 0.5, 1, 4, 8, 16 (from top to bottom)*    \n",
    "*The numbers inside the table itself represent the total conv cycle time* \n",
    "\n",
    "</center> \n",
    "\n",
    "\n",
    "\n",
    "For additional information:  \n",
    "https://www.ti.com/lit/ds/symlink/tmp117.pdf?ts=1656974490603&ref_url=https%253A%252F%252Fwww.ti.com%252Ftechnologies%252Finternet-of-things%252Foverview.html "
   ]
  },
  {
   "cell_type": "markdown",
   "metadata": {},
   "source": [
    "\n",
    "#### TO-DO: Change parameters for TMP117 below"
   ]
  },
  {
   "cell_type": "code",
   "execution_count": null,
   "metadata": {},
   "outputs": [],
   "source": [
    "ModesTMP = np.array([(\"CC_32_16\",15), (\"OS_64_1\",15), (\"OS_32_0.0155\",40), (\"OFF_0_0\",10)])\n",
    "active_list = generateActiveList(duration, ModesTMP)\n",
    "tmp = TMP117(time_step, duration, active_list, loop_rate = 20)\n",
    "power_tmp, data_tmp, time_tmp= tmp.runSim(plot=True);"
   ]
  },
  {
   "cell_type": "markdown",
   "metadata": {},
   "source": [
    "*** "
   ]
  },
  {
   "cell_type": "markdown",
   "metadata": {},
   "source": [
    "# `Accelerometer Configurations`"
   ]
  },
  {
   "cell_type": "markdown",
   "metadata": {},
   "source": [
    "MPU6050 description:\n",
    "- Gyroscope operating current: 3.6 mA\n",
    "- Accelerometer operating current: 500 µA\n",
    "    * Low power accelerometer mode current: 10µA at 1.25Hz, 20µA at 5Hz, 60µA at 20Hz, 110µA at\n",
    "40Hz\n",
    "- Everything enabled: 3.9 mA\n",
    "- 16-bit registers for storing accelerometer/ gyroscope data, one per axis for each.\n",
    "- 1024 byte FIFO buffer allowing reading/ writing data from registers.\n",
    "- Temperature range is -40 to 85 °C\n",
    "\n",
    "Modes:\n",
    "The accelerometer has 9 different modes to choose from, with different capabilites, power usage, and data usage.\n",
    "\n",
    "| Mode | Description | Power (mW) | Data (bytes/s) | Input string | Notes | \n",
    "|---|---|---|---|---|---| \n",
    "| Low power wakeup (x) | Wake the sensor to take a single accelerometer sample  at a given frequency given by x. Options include x=1.25, 5, 20, 40. | 0.033-0.462 | 7.5-640 | \"low_power_wakeup_x\" | Power and data increases with wakeup frequency. |\n",
    "| Accelerometer only | Only use the accelerometer. | 1.65 | 6,000 | \"accelerometer_only\" | N/A | \n",
    "| Gyroscope only | Only use the gyroscope. | 11.88 | 48,000 | \"gyroscope_only\" | N/A |\n",
    "| Accelerometer and Gyroscope | Both accelerometer and gyroscope. | 12.54 | 12,000 | \"gyroscope_accelerometer\" | The gyroscope and accelerometer take samples at different rates. The data value assumes a sample rate of the accelerometer, 1 kHz. | \n",
    "| Sleep | Does nothing. | 0.0165 | 0 | \"sleep\" | N/A |\n",
    "\n",
    "*Power assumes a voltage of 3.3v, data assumes there are no bottlenecks such as loop rate.\n",
    "\n",
    "Parameters:\n",
    "- **digital low pass:** configures the digital low pass filter settings on the sensor. Setting digital_low_pass to 1 changes the output rate, 8kHz when 0 and 1kHz when 1.\n",
    "- **sample rate divisor:** is a parameter to lower the sampling rate of the sensor. This value ranges from 0 to 255, and is used in the equation below.\n",
    "    * Sample Rate = Gyroscope Output Rate / (1 + SMPLRT_DIV)\n",
    "    * Note: gyroscope output rate changes if the digital low pass filter is on or not, 1kHz when on and 8kHz when off.\n",
    "- **loop rate:** is a hypothetical bottleneck to the measuring rate of the sensor; it represents the loop rate of the LunaSat code."
   ]
  },
  {
   "cell_type": "code",
   "execution_count": null,
   "metadata": {},
   "outputs": [],
   "source": [
    "accelerometer = MPU6050(time_step=time_step, duration=duration, loop_rate=20)\n",
    "\n",
    "#REMEBER TO TAKE OUT DMP FROM MODES. DMP IS CURSED AND WE DONT LIKE HIM.\n",
    "ModesACC = np.array([(\"low_power_wakeup_1.25_1_255\",50), (\"gyroscope_accelerometer_0_75\",40), (\"accelerometer_only_0_90\", 20), (\"low_power_wakeup_1.25_1_255\",50)])\n",
    "active_times = generateActiveList(total_time=duration, modelist=ModesACC)\n",
    "time_acc, power_acc, data_acc = accelerometer.runSim(active_times)"
   ]
  },
  {
   "cell_type": "markdown",
   "metadata": {},
   "source": [
    "***"
   ]
  },
  {
   "cell_type": "markdown",
   "metadata": {},
   "source": [
    "# `Thermopile Configurations`"
   ]
  },
  {
   "cell_type": "markdown",
   "metadata": {},
   "source": [
    "The args we pass in to the function is the time_step and duration. As with the active times, we pass in what mode we want the sensro to run on as well as the times we want it to be active. The two possible modes are \"TP_only\" and \"TP_off\""
   ]
  },
  {
   "cell_type": "code",
   "execution_count": null,
   "metadata": {},
   "outputs": [],
   "source": [
    "Thermo = TP(time_step, duration, loop_rate=20)\n",
    "ModesThermo = np.array([(\"TP_only\",20), (\"TP_off\",20), (\"TP_only\",20)])\n",
    "active_times = generateActiveList(total_time=duration, modelist=ModesThermo)\n",
    "tp_time, tp_power, tp_data = Thermo.runSim(active_times)"
   ]
  },
  {
   "cell_type": "markdown",
   "metadata": {},
   "source": [
    "***"
   ]
  },
  {
   "cell_type": "markdown",
   "metadata": {},
   "source": [
    "# `Capacitor Configurations`"
   ]
  },
  {
   "cell_type": "markdown",
   "metadata": {},
   "source": [
    "CAP11NA description:\n",
    "- We don't have a ton of info on this one. Citation needed?"
   ]
  },
  {
   "cell_type": "code",
   "execution_count": null,
   "metadata": {},
   "outputs": [],
   "source": [
    "cap = CAP11NA(loop_rate=20, duration=duration, time_step=time_step)\n",
    "ModesCapacitor = np.array([(\"on\",10)]) #this means that it will always be on!\n",
    "cap_active_times = generateActiveList(total_time=duration, modelist=ModesCapacitor)\n",
    "cap_time, cap_power, cap_data = cap.runSim(cap_active_times)"
   ]
  },
  {
   "cell_type": "markdown",
   "metadata": {},
   "source": [
    "***"
   ]
  },
  {
   "cell_type": "markdown",
   "metadata": {},
   "source": [
    "# `Magnetometer Configurations`"
   ]
  },
  {
   "cell_type": "markdown",
   "metadata": {},
   "source": [
    "BM1422 description:\n",
    "- 0.15 mA operating current at 100SPS.\n",
    "- Operating temperature -40 to 85 °C\n",
    "- things?\n",
    "\n",
    "Modes:\n",
    "- The sensor supports different output rates for measuring, the options aer 10Hz, 20Hz, 100Hz, and 1kHz. These only change the amount of data collected, not the power. \n",
    "- There are continous and single modes, however the documentation for these is not great.\n"
   ]
  },
  {
   "cell_type": "code",
   "execution_count": null,
   "metadata": {},
   "outputs": [],
   "source": [
    "foo = BM1422(loop_rate=20, duration=duration, time_step=time_step)\n",
    "#for magnetometer, the certain mode is the timing specification, or standby.\n",
    "ModesMagnetometer = np.array([(\"1000\",10), (\"standby\",10),(\"10\",40)])\n",
    "mag_activetimes = generateActiveList(total_time=duration, modelist=ModesMagnetometer)\n",
    "mag_time, mag_power, mag_data = foo.runSim(mag_activetimes)"
   ]
  },
  {
   "cell_type": "markdown",
   "metadata": {},
   "source": [
    "***"
   ]
  },
  {
   "cell_type": "markdown",
   "metadata": {},
   "source": [
    "# `Solar Panel Model`"
   ]
  },
  {
   "cell_type": "code",
   "execution_count": null,
   "metadata": {},
   "outputs": [],
   "source": [
    "#power used by ATMega\n",
    "chip_pow = 20"
   ]
  },
  {
   "cell_type": "markdown",
   "metadata": {},
   "source": [
    "# `Solar Panel Model`"
   ]
  },
  {
   "cell_type": "code",
   "execution_count": null,
   "metadata": {},
   "outputs": [],
   "source": [
    "# the solar model plots the power available in a lunar day\n",
    "\n",
    "solar_panel_model = SM141K(start_time_hrs=0, duration_hrs=709, time_step_seconds=30, latitude=45)\n",
    "solar_panel_model.plotPowerAvailable()"
   ]
  },
  {
   "cell_type": "markdown",
   "metadata": {},
   "source": [
    "***  \n",
    "# `All Together`"
   ]
  },
  {
   "cell_type": "markdown",
   "metadata": {},
   "source": [
    "In this section, we will compute the total power and total data for each active period by combining the power and data arrays of each sensor. We will then plot the total power and data against time. As you can see, the ATMega328P (microprocessor) consumes the most power and magnetometer consumes the most data. The solar model plots the power available at a given time. The blue shaded region is where there is enough power to power the LunaSat."
   ]
  },
  {
   "cell_type": "code",
   "execution_count": null,
   "metadata": {},
   "outputs": [],
   "source": [
    "total_pow = power_tmp + mag_power + power_acc + cap_power + tp_power + chip_pow\n",
    "total_data = data_tmp + mag_data + data_acc + cap_data + tp_data "
   ]
  },
  {
   "cell_type": "code",
   "execution_count": null,
   "metadata": {},
   "outputs": [],
   "source": [
    "plotTogether(time_tmp, time_acc, tp_time, cap_time, mag_time, tp_power, power_tmp, power_acc, mag_power, cap_power, data_tmp, data_acc, mag_data, cap_data, tp_data, total_pow, total_data, chip_pow)\n"
   ]
  },
  {
   "cell_type": "code",
   "execution_count": null,
   "metadata": {},
   "outputs": [],
   "source": [
    "# The model shows the times in the shaded region where the solar panel produces enough power for the LunaSat with the given modes for each sensor\n",
    "\n",
    "max_power_used = max(total_pow)\n",
    "solar_panel_model.plotPowerAndTimesPossible(max_power = max_power_used)"
   ]
  },
  {
   "cell_type": "markdown",
   "metadata": {},
   "source": [
    "***\n",
    "# `SETTING ARDUINO CONFIGS`"
   ]
  },
  {
   "cell_type": "code",
   "execution_count": null,
   "metadata": {},
   "outputs": [],
   "source": [
    "# EXAMPLE CONFIG:\n",
    "# prefix is the config number so in this case this is the first config so prefix is 0.\n",
    "mode_duration_prefix = 10 # seconds\n",
    "tmp_mode_prefix = \"CC_32_16\"\n",
    "acc_mode_prefix = \"low_power_wakeup_1.25_1_255\"\n",
    "thermopile_mode_prefix = \"TP_only\"\n",
    "capacitor_mode_prefix = \"off\"\n",
    "magnetometer_mode_prefix = \"standby\"\n",
    "config_prefix = [tmp_mode_prefix, acc_mode_prefix, thermopile_mode_prefix, capacitor_mode_prefix, magnetometer_mode_prefix, mode_duration_prefix]"
   ]
  },
  {
   "cell_type": "code",
   "execution_count": null,
   "metadata": {},
   "outputs": [],
   "source": [
    "# CONFIGURATION 1:\n",
    "mode_duration_1 = 10 # seconds\n",
    "tmp_mode_1 = \"CC_32_16\"\n",
    "acc_mode_1 = \"low_power_wakeup_1.25_1_255\"\n",
    "thermopile_mode_1 = \"TP_only\"\n",
    "capacitor_mode_1 = \"off\"\n",
    "magnetometer_mode_1 = \"standby\"\n",
    "config_1 = [tmp_mode_1, acc_mode_1, thermopile_mode_1, capacitor_mode_1, magnetometer_mode_1, mode_duration_1]\n",
    "\n",
    "# CONFIGURATION 2:\n",
    "mode_duration_2 = 10 # seconds\n",
    "tmp_mode2 = \"CC_32_16\"\n",
    "acc_mode2 = \"accelerometer_only_0_90\"\n",
    "thermopile_mode2 = \"TP_off\"\n",
    "capacitor_mode2 = \"on\"\n",
    "magnetometer_mode2 = \"1000\"\n",
    "config_2 = [tmp_mode2, acc_mode2, thermopile_mode2, capacitor_mode2, magnetometer_mode2, mode_duration_2]\n",
    "\n",
    "# CONFIGURATION 3:\n",
    "mode_duration_3 = 10 # seconds\n",
    "tmp_mode_3 = \"CC_32_16\"\n",
    "acc_mode_3 = \"accelerometer_only_0_90\"\n",
    "thermopile_mode_3 = \"TP_off\"\n",
    "capacitor_mode_3 = \"on\"\n",
    "magnetometer_mode_3 = \"1000\"\n",
    "config_3 = [tmp_mode_3, acc_mode_3, thermopile_mode_3, capacitor_mode_3, magnetometer_mode_3, mode_duration_3]\n",
    "\n",
    "# ADD CONFIGURATION ARRAYS HERE \n",
    "configurations = [config_1, config_2, config_3]"
   ]
  },
  {
   "cell_type": "code",
   "execution_count": null,
   "metadata": {},
   "outputs": [],
   "source": [
    "team_name = 'EXAMPLE_ARDUINO_CONFIGS' # CHANGE YOUR TEAM NAME HERE"
   ]
  },
  {
   "cell_type": "code",
   "execution_count": null,
   "metadata": {},
   "outputs": [],
   "source": [
    "ArduinoConfig(configurations, team_name) # GENERATE BITSTRINGS FOR VALID MODES"
   ]
  },
  {
   "cell_type": "code",
   "execution_count": null,
   "metadata": {},
   "outputs": [],
   "source": [
    "readArduinoConfigs(team_name) # PRINTING CONFIG INPUTS THAT YOU GENERATED"
   ]
  }
 ],
 "metadata": {
  "kernelspec": {
   "display_name": "Python 3.10.5 64-bit",
   "language": "python",
   "name": "python3"
  },
  "language_info": {
   "codemirror_mode": {
    "name": "ipython",
    "version": 3
   },
   "file_extension": ".py",
   "mimetype": "text/x-python",
   "name": "python",
   "nbconvert_exporter": "python",
   "pygments_lexer": "ipython3",
   "version": "3.10.5"
  },
  "vscode": {
   "interpreter": {
    "hash": "949777d72b0d2535278d3dc13498b2535136f6dfe0678499012e853ee9abcab1"
   }
  }
 },
 "nbformat": 4,
 "nbformat_minor": 2
}
