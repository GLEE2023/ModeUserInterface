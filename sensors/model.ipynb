{
 "cells": [
  {
   "cell_type": "code",
   "execution_count": 65,
   "metadata": {},
   "outputs": [],
   "source": [
    "import numpy as np\n",
    "import matplotlib.pyplot as plt\n",
    "import pandas as pd\n",
    "from IPython.display import Image"
   ]
  },
  {
   "cell_type": "markdown",
   "metadata": {},
   "source": [
    "# Temperature Sensor Configurations"
   ]
  },
  {
   "cell_type": "markdown",
   "metadata": {},
   "source": [
    "Explanation of below functions:  \n",
    "***Continuous conversion mode:*** The device continuously performs temperature conversions in this mode, as shown in Figure 7-3, and updates the temperature result register at the end of every active conversion  \n",
    "***One-shot mode:*** After the device completes a (temperature conversion) one-shot conversion, the device goes to the *low-power shutdown mode*.  "
   ]
  },
  {
   "cell_type": "code",
   "execution_count": 56,
   "metadata": {},
   "outputs": [],
   "source": [
    "class TMP117():\n",
    "    def __init__(self, mode, time_step, duration, CC_params, OS_params):\n",
    "        self.mode = mode\n",
    "        self.time_step = time_step\n",
    "        self.duration = duration\n",
    "        self.CC_params = CC_params\n",
    "        self.OS_params = OS_params\n",
    "\n",
    "    def calculate_power(self, time):\n",
    "        if self.mode == \"CC\": \n",
    "            standByCurrentConsumption = 1.25\n",
    "            activeCurrentConsumption = 135\n",
    "            convCycleTime = self.CC_params[0]\n",
    "            num_averages = self.CC_params[1]\n",
    "\n",
    "            activeConversionTime = num_averages*0.0155\n",
    "            standbyTime =  convCycleTime- activeConversionTime\n",
    "            amps = ((activeCurrentConsumption*activeConversionTime) + (standByCurrentConsumption*standbyTime)) / convCycleTime\n",
    "\n",
    "            power = (amps * 3.3) / 1000\n",
    "\n",
    "        elif self.mode == \"OS\":\n",
    "            return 0 # add more stuff ........\n",
    "\n",
    "        return power \n",
    "\n",
    "    def returnArr(self, time, active_times, standby):\n",
    "        time = time.tolist()\n",
    "        length = len(time)\n",
    "        standby = 1.25 / 1000 # default power when active conversion is off\n",
    "        arr = [standby] * len(time) # creating corresponding power array to time intervals, default values \n",
    "\n",
    "        # check if the given start and end time is a valid value in the time array and round to nearest value \n",
    "        for times in active_times:\n",
    "            start = times[0]\n",
    "            end = times[1]\n",
    "            if times[0] not in time:\n",
    "                print(\"start or end time is invalid, rounding to nearest whole number\")\n",
    "                start = round(start)\n",
    "\n",
    "            if times[1] not in time:\n",
    "                print(\"start or end time is invalid, rounding to nearest whole number\")\n",
    "                end = round(end)\n",
    "\n",
    "            start_index = time.index(start) \n",
    "            end_index = time.index(end) \n",
    "\n",
    "            # calculate power here for active conversion period\n",
    "            # if statement for power vs data\n",
    "            \n",
    "            power = self.calculate_power(time)\n",
    "            for i in range(start_index, end_index+1):\n",
    "                arr[i] = power   \n",
    "            \n",
    "        return arr\n",
    "\n",
    "    def getData(self, time):\n",
    "        '''\n",
    "        The data in the result register is in two's complement format, \n",
    "        has a data width of 16 bits and a resolution of 7.8125 m°C.\n",
    "        \n",
    "        Changing the conversion cycle period also affects the temperature result update rate because the temperature \n",
    "        result register is updated at the end of every active conversion.\n",
    "        \n",
    "        Storing 16-bit value at the end of each conversion cycle (1s)\n",
    "        '''\n",
    "        for t in time:\n",
    "            \n",
    "        \n",
    "        return 0\n",
    "\n",
    "    def Simulation(self, active_times):\n",
    "        time = np.arange(0,self.duration,self.time_step) #time at which to collect data\n",
    "        #active_times = [[4,5], [5,6]]\n",
    "\n",
    "        power = self.getPower(time, active_times)\n",
    "        data = self.getData(time)\n",
    "\n",
    "        return time, power, data\n",
    "    \n"
   ]
  },
  {
   "cell_type": "markdown",
   "metadata": {},
   "source": [
    "### Parameters for TMP117 (to be changed by teams)  \n",
    "...add more explanation of what each input does later  \n",
    "add explanation of what possible inputs including default are for each input ...  \n",
    "\n",
    "**Continuous conversion (if selected) params**:  \n",
    "**possible conversion cycle times (see column 1 of table below)**: 0.0155, 0.125, 0.25, 0.5, 1, 4, 8, 16  \n",
    "**possible averaging inputs**: 0, 8, 32, 64\n"
   ]
  },
  {
   "cell_type": "code",
   "execution_count": 59,
   "metadata": {},
   "outputs": [],
   "source": [
    "#Image(\"convTimes.png\")"
   ]
  },
  {
   "cell_type": "markdown",
   "metadata": {},
   "source": [
    "#### TO-DO (teams set inputs)"
   ]
  },
  {
   "cell_type": "code",
   "execution_count": 73,
   "metadata": {},
   "outputs": [],
   "source": [
    "mode = 'CC'\n",
    "time_step = 1 # possible inputs: ...\n",
    "duration = 20 # possible inputs: ...\n",
    "convCycle = 0.0155 # possible inputs: .0155, 0.125, 0.25, 0.5, 1, 4, 8, 16, see above table (column 1)\n",
    "num_averages = 0 # possible inputs: 0, 8, 32, 64\n",
    "CC_params = [convCycle, num_averages] # set to 0 if mode chosen is not CC\n",
    "OS_params = [num_averages] # set to 0 if mode chosen is not OS"
   ]
  },
  {
   "cell_type": "code",
   "execution_count": 77,
   "metadata": {},
   "outputs": [],
   "source": [
    "x = TMP117(mode, time_step, duration, CC_params, OS_params) # creating TMP117 class\n",
    "active_times = [[1,2], [7,9], [12,15]]\n",
    "time, power, data = x.Simulation(active_times) # getting power, data, time "
   ]
  },
  {
   "cell_type": "code",
   "execution_count": 78,
   "metadata": {},
   "outputs": [
    {
     "name": "stdout",
     "output_type": "stream",
     "text": [
      "[0.00125, 0.004125, 0.004125, 0.00125, 0.00125, 0.00125, 0.00125, 0.004125, 0.004125, 0.004125, 0.00125, 0.00125, 0.004125, 0.004125, 0.004125, 0.004125, 0.00125, 0.00125, 0.00125, 0.00125]\n"
     ]
    }
   ],
   "source": [
    "print(power)"
   ]
  },
  {
   "cell_type": "code",
   "execution_count": 79,
   "metadata": {},
   "outputs": [
    {
     "data": {
      "image/png": "[encoded data removed]",
      "text/plain": [
       "<Figure size 432x288 with 1 Axes>"
      ]
     },
     "metadata": {
      "needs_background": "light"
     },
     "output_type": "display_data"
    }
   ],
   "source": [
    "plt.plot(time, power);"
   ]
  },
  {
   "cell_type": "markdown",
   "metadata": {},
   "source": [
    "# Accelerometer"
   ]
  },
  {
   "cell_type": "code",
   "execution_count": null,
   "metadata": {},
   "outputs": [],
   "source": []
  },
  {
   "cell_type": "markdown",
   "metadata": {},
   "source": [
    "# Magnetometer"
   ]
  },
  {
   "cell_type": "markdown",
   "metadata": {},
   "source": []
  },
  {
   "cell_type": "markdown",
   "metadata": {},
   "source": [
    "# Thermopile"
   ]
  },
  {
   "cell_type": "markdown",
   "metadata": {},
   "source": []
  }
 ],
 "metadata": {
  "kernelspec": {
   "display_name": "Python 3 (ipykernel)",
   "language": "python",
   "name": "python3"
  },
  "language_info": {
   "codemirror_mode": {
    "name": "ipython",
    "version": 3
   },
   "file_extension": ".py",
   "mimetype": "text/x-python",
   "name": "python",
   "nbconvert_exporter": "python",
   "pygments_lexer": "ipython3",
   "version": "3.9.12"
  },
  "vscode": {
   "interpreter": {
    "hash": "aee8b7b246df8f9039afb4144a1f6fd8d2ca17a180786b69acc140d282b71a49"
   }
  }
 },
 "nbformat": 4,
 "nbformat_minor": 2
}
