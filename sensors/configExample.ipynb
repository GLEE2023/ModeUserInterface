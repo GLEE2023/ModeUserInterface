{
 "cells": [
  {
   "cell_type": "code",
   "execution_count": 2,
   "metadata": {},
   "outputs": [],
   "source": [
    "from TMP117 import TMP117\n",
    "from MPU6050 import MPU6050\n",
    "from TP import TP\n",
    "from CAP11NA import CAP11NA\n",
    "from BM1422 import BM1422\n",
    "from SM141K import SM141K \n",
    "from helperFunctions import generateActiveList, plotTogether\n",
    "import numpy as np"
   ]
  },
  {
   "cell_type": "code",
   "execution_count": null,
   "metadata": {},
   "outputs": [],
   "source": [
    "# CONFIGURATION 1:\n",
    "mode1_duration = 10 #seconds\n",
    "tmp_mode1 = \"\"\n",
    "acc_mode1 = \"\"\n",
    "thermopile_mode1 = \"\"\n",
    "capacitor_mode1 = \"\"\n",
    "magnetometer_mode1 = \"\""
   ]
  },
  {
   "cell_type": "code",
   "execution_count": null,
   "metadata": {},
   "outputs": [],
   "source": [
    "# CONFIGURATION 2:\n",
    "mode2_duration = 10 #seconds\n",
    "tmp_mode2 = \"\"\n",
    "acc_mode2 = \"\"\n",
    "thermopile_mode2 = \"\"\n",
    "capacitor_mode2 = \"\"\n",
    "magnetometer_mode2 = \"\""
   ]
  },
  {
   "cell_type": "code",
   "execution_count": null,
   "metadata": {},
   "outputs": [],
   "source": [
    "# CONFIGURATION 3:\n",
    "mode1_duration = 10 #seconds\n",
    "tmp_mode1 = \"\"\n",
    "acc_mode1 = \"\"\n",
    "thermopile_mode1 = \"\"\n",
    "capacitor_mode1 = \"\"\n",
    "magnetometer_mode1 = \"\""
   ]
  },
  {
   "cell_type": "code",
   "execution_count": null,
   "metadata": {},
   "outputs": [],
   "source": []
  }
 ],
 "metadata": {
  "kernelspec": {
   "display_name": "Python 3.9.12 ('base')",
   "language": "python",
   "name": "python3"
  },
  "language_info": {
   "codemirror_mode": {
    "name": "ipython",
    "version": 3
   },
   "file_extension": ".py",
   "mimetype": "text/x-python",
   "name": "python",
   "nbconvert_exporter": "python",
   "pygments_lexer": "ipython3",
   "version": "3.9.12"
  },
  "orig_nbformat": 4,
  "vscode": {
   "interpreter": {
    "hash": "66d25c861a595330ccc0219276206efe9046352324bed689a3ced746c2586d60"
   }
  }
 },
 "nbformat": 4,
 "nbformat_minor": 2
}
