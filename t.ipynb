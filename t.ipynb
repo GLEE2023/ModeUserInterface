{
 "cells": [
  {
   "cell_type": "code",
   "execution_count": 35,
   "metadata": {},
   "outputs": [
    {
     "data": {
      "application/vnd.jupyter.widget-view+json": {
       "model_id": "8af62fb9a30b43f89145b77e64774854",
       "version_major": 2,
       "version_minor": 0
      },
      "text/plain": [
       "IntSlider(value=1, description='this is slider', max=30, min=1)"
      ]
     },
     "metadata": {},
     "output_type": "display_data"
    },
    {
     "data": {
      "application/vnd.jupyter.widget-view+json": {
       "model_id": "80f70122150d4c248f55764f6a4abed5",
       "version_major": 2,
       "version_minor": 0
      },
      "text/plain": [
       "Output()"
      ]
     },
     "metadata": {},
     "output_type": "display_data"
    }
   ],
   "source": [
    "import ipywidgets as wg\n",
    "\n",
    "slider = wg.IntSlider(value=1, min=1, max=30, description='this is slider')\n",
    "slideroutput = wg.Output()\n",
    "display(slider, slideroutput)\n",
    "changes = []\n",
    "def on_value_change(change):\n",
    "    with slideroutput:\n",
    "        changes.append(change['new'])\n",
    "    \n",
    "slider.observe(on_value_change, names='value')"
   ]
  },
  {
   "cell_type": "code",
   "execution_count": 42,
   "metadata": {},
   "outputs": [
    {
     "name": "stdout",
     "output_type": "stream",
     "text": [
      "[11, 10, 9, 8]\n",
      "8\n",
      "[]\n"
     ]
    }
   ],
   "source": [
    "print(changes)\n",
    "print(changes.pop())\n",
    "changes.clear()\n",
    "print(changes)"
   ]
  }
 ],
 "metadata": {
  "kernelspec": {
   "display_name": "Python 3.9.12 ('base')",
   "language": "python",
   "name": "python3"
  },
  "language_info": {
   "codemirror_mode": {
    "name": "ipython",
    "version": 3
   },
   "file_extension": ".py",
   "mimetype": "text/x-python",
   "name": "python",
   "nbconvert_exporter": "python",
   "pygments_lexer": "ipython3",
   "version": "3.9.12"
  },
  "vscode": {
   "interpreter": {
    "hash": "66d25c861a595330ccc0219276206efe9046352324bed689a3ced746c2586d60"
   }
  }
 },
 "nbformat": 4,
 "nbformat_minor": 2
}
